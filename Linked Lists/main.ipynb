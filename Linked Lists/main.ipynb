{
 "cells": [
  {
   "cell_type": "code",
   "execution_count": 2,
   "metadata": {},
   "outputs": [],
   "source": [
    "from typing import List"
   ]
  },
  {
   "cell_type": "code",
   "execution_count": 21,
   "metadata": {},
   "outputs": [],
   "source": [
    "class Solution:\n",
    "    def deckRevealedIncreasing(self, deck: List[int]) -> List[int]:\n",
    "        deck = sorted(deck)\n",
    "        n = len(deck)//2 +1\n",
    "\n",
    "        d1 = deck[:n]\n",
    "        d2 = deck[n:]\n",
    "        res = []\n",
    "        \n",
    "        for x,y in zip(d1,d2):\n",
    "            res.append(x)\n",
    "            res.append(y)\n",
    "        return res, d1, d2\n",
    "    "
   ]
  },
  {
   "cell_type": "code",
   "execution_count": 33,
   "metadata": {},
   "outputs": [
    {
     "data": {
      "text/plain": [
       "1"
      ]
     },
     "execution_count": 33,
     "metadata": {},
     "output_type": "execute_result"
    }
   ],
   "source": [
    "from collections import Counter\n",
    "\n",
    "nums = [10,10,10,1,2,3]\n",
    "\n",
    "def check_duplicates(nums):\n",
    "    count = Counter(nums)\n",
    "    \n",
    "    res = [key for key, val in count.items() if val == 1]\n",
    "\n",
    "    return res[0] if res else -1\n",
    "\n",
    "check_duplicates(nums)"
   ]
  }
 ],
 "metadata": {
  "kernelspec": {
   "display_name": "Python 3",
   "language": "python",
   "name": "python3"
  },
  "language_info": {
   "codemirror_mode": {
    "name": "ipython",
    "version": 3
   },
   "file_extension": ".py",
   "mimetype": "text/x-python",
   "name": "python",
   "nbconvert_exporter": "python",
   "pygments_lexer": "ipython3",
   "version": "3.13.1"
  }
 },
 "nbformat": 4,
 "nbformat_minor": 2
}
