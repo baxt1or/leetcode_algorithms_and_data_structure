{
 "cells": [
  {
   "cell_type": "code",
   "execution_count": 2,
   "metadata": {},
   "outputs": [],
   "source": [
    "from typing import List"
   ]
  },
  {
   "cell_type": "code",
   "execution_count": 21,
   "metadata": {},
   "outputs": [],
   "source": [
    "class Solution:\n",
    "    def deckRevealedIncreasing(self, deck: List[int]) -> List[int]:\n",
    "        deck = sorted(deck)\n",
    "        n = len(deck)//2 +1\n",
    "\n",
    "        d1 = deck[:n]\n",
    "        d2 = deck[n:]\n",
    "        res = []\n",
    "        \n",
    "        for x,y in zip(d1,d2):\n",
    "            res.append(x)\n",
    "            res.append(y)\n",
    "        return res, d1, d2\n",
    "    "
   ]
  },
  {
   "cell_type": "code",
   "execution_count": 43,
   "metadata": {},
   "outputs": [],
   "source": [
    "from collections import Counter\n",
    "\n",
    "class Node:\n",
    "    def __init__(self, val):\n",
    "        self.val = val \n",
    "        self.next = None\n",
    "\n",
    "class LinkedList:\n",
    "    def __init__(self):\n",
    "        self.head = None\n",
    "\n",
    "    def append(self, val):\n",
    "        new_node = Node(val)\n",
    "\n",
    "        if self.head is None:\n",
    "            self.head = new_node\n",
    "            return\n",
    "        \n",
    "        last = self.head\n",
    "\n",
    "        while last.next:\n",
    "            last = last.next\n",
    "        last.next = new_node\n",
    "        \n",
    "\n",
    "    def print_values(self):\n",
    "        current = self.head\n",
    "\n",
    "        while current:\n",
    "            print(current.val, end=\" -> \")\n",
    "            current = current.next\n",
    "        print(\"None\")\n",
    "    \n",
    "    def reverse(self):\n",
    "        prev = None\n",
    "        current = self.head\n",
    "\n",
    "        while current:\n",
    "            next_node = current.next\n",
    "            current.next = prev\n",
    "            prev = current\n",
    "            current = next_node\n",
    "        self.head = prev\n",
    "    \n",
    "    def remove_dupl(self):\n",
    "        current = self.head\n",
    "\n",
    "        while current is not None and current.next is not None:\n",
    "            if current.next.val == current.val:\n",
    "                current.next = current.next.next\n",
    "            else:\n",
    "                current = current.next\n",
    "        \n",
    "        return self.head\n",
    "    \n",
    "    def delete(self, val):\n",
    "        if self.head.val == val:\n",
    "            self.head = self.head.next\n",
    "        \n",
    "        current = self.head\n",
    "\n",
    "        while current.next and current.next.val != val:\n",
    "            current = current.next\n",
    "        \n",
    "        current.next = current.next.next\n",
    "    \n",
    "    def remove_next_greatest(self):\n",
    "        current = self.head\n",
    "        res = []\n",
    "        while current and current.next is not None:\n",
    "            if current.val > current.next.val:\n",
    "                res.append(current.val)\n",
    "            current = current.next\n",
    "        return res\n",
    "    \n",
    "    def remove_existings(self, nums):\n",
    "        nums = set(nums)\n",
    "        current = self.head\n",
    "        prev = None\n",
    "\n",
    "        while current and prev is not None:\n",
    "            if current.val in nums:\n",
    "                prev.next = current.next\n",
    "                current = prev.next\n",
    "            else:\n",
    "                prev = current\n",
    "                current = current.next\n",
    "            \n",
    "        self.head = current"
   ]
  },
  {
   "cell_type": "code",
   "execution_count": 44,
   "metadata": {},
   "outputs": [
    {
     "name": "stdout",
     "output_type": "stream",
     "text": [
      "1 -> 2 -> 3 -> 4 -> 5 -> None\n",
      "1 -> 2 -> 3 -> 4 -> 5 -> None\n"
     ]
    }
   ],
   "source": [
    "ls = LinkedList()\n",
    "\n",
    "ls.append(1)\n",
    "ls.append(2)\n",
    "ls.append(3)\n",
    "ls.append(4)\n",
    "ls.append(5)\n",
    "\n",
    "ls.print_values()\n",
    "\n",
    "ls.remove_existings([1, 2,3])\n",
    "ls.print_values()"
   ]
  },
  {
   "cell_type": "code",
   "execution_count": null,
   "metadata": {},
   "outputs": [],
   "source": []
  },
  {
   "cell_type": "code",
   "execution_count": 45,
   "metadata": {},
   "outputs": [
    {
     "data": {
      "text/plain": [
       "[1, 2, 4, 5, 6]"
      ]
     },
     "execution_count": 45,
     "metadata": {},
     "output_type": "execute_result"
    }
   ],
   "source": [
    "nums = [1,2,4]\n",
    "n = [5, 6]\n",
    "\n",
    "nums+n"
   ]
  }
 ],
 "metadata": {
  "kernelspec": {
   "display_name": "Python 3",
   "language": "python",
   "name": "python3"
  },
  "language_info": {
   "codemirror_mode": {
    "name": "ipython",
    "version": 3
   },
   "file_extension": ".py",
   "mimetype": "text/x-python",
   "name": "python",
   "nbconvert_exporter": "python",
   "pygments_lexer": "ipython3",
   "version": "3.13.1"
  }
 },
 "nbformat": 4,
 "nbformat_minor": 2
}
