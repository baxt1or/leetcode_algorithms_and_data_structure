{
 "cells": [
  {
   "cell_type": "code",
   "execution_count": 2,
   "metadata": {},
   "outputs": [],
   "source": [
    "from typing import List"
   ]
  },
  {
   "cell_type": "code",
   "execution_count": 21,
   "metadata": {},
   "outputs": [],
   "source": [
    "class Solution:\n",
    "    def deckRevealedIncreasing(self, deck: List[int]) -> List[int]:\n",
    "        deck = sorted(deck)\n",
    "        n = len(deck)//2 +1\n",
    "\n",
    "        d1 = deck[:n]\n",
    "        d2 = deck[n:]\n",
    "        res = []\n",
    "        \n",
    "        for x,y in zip(d1,d2):\n",
    "            res.append(x)\n",
    "            res.append(y)\n",
    "        return res, d1, d2\n",
    "    "
   ]
  },
  {
   "cell_type": "code",
   "execution_count": 31,
   "metadata": {},
   "outputs": [],
   "source": [
    "from collections import Counter\n",
    "\n",
    "class Node:\n",
    "    def __init__(self, val):\n",
    "        self.val = val \n",
    "        self.next = None\n",
    "\n",
    "class LinkedList:\n",
    "    def __init__(self):\n",
    "        self.head = None\n",
    "\n",
    "    def append(self, val):\n",
    "        new_node = Node(val)\n",
    "\n",
    "        if self.head is None:\n",
    "            self.head = new_node\n",
    "            return\n",
    "        \n",
    "        last = self.head\n",
    "\n",
    "        while last.next:\n",
    "            last = last.next\n",
    "        last.next = new_node\n",
    "        \n",
    "\n",
    "    def print_values(self):\n",
    "        current = self.head\n",
    "\n",
    "        while current:\n",
    "            print(current.val, end=\" -> \")\n",
    "            current = current.next\n",
    "        print(\"None\")\n",
    "    \n",
    "    def reverse(self):\n",
    "        prev = None\n",
    "        current = self.head\n",
    "\n",
    "        while current:\n",
    "            next_node = current.next\n",
    "            current.next = prev\n",
    "            prev = current\n",
    "            current = next_node\n",
    "        self.head = prev\n",
    "    \n",
    "    def remove_dupl(self):\n",
    "        current = self.head\n",
    "\n",
    "        while current is not None and current.next is not None:\n",
    "            if current.next.val == current.val:\n",
    "                current.next = current.next.next\n",
    "            else:\n",
    "                current = current.next\n",
    "        \n",
    "        return self.head\n",
    "\n"
   ]
  },
  {
   "cell_type": "code",
   "execution_count": 32,
   "metadata": {},
   "outputs": [
    {
     "name": "stdout",
     "output_type": "stream",
     "text": [
      "12 -> 43 -> 54 -> 54 -> None\n",
      "12 -> 43 -> 54 -> None\n"
     ]
    }
   ],
   "source": [
    "ls = LinkedList()\n",
    "\n",
    "ls.append(12)\n",
    "ls.append(43)\n",
    "ls.append(54)\n",
    "ls.append(54)\n",
    "\n",
    "# ls.print_values()\n",
    "# ls.reverse()\n",
    "ls.print_values()\n",
    "ls.remove_dupl()\n",
    "ls.print_values()\n"
   ]
  }
 ],
 "metadata": {
  "kernelspec": {
   "display_name": "Python 3",
   "language": "python",
   "name": "python3"
  },
  "language_info": {
   "codemirror_mode": {
    "name": "ipython",
    "version": 3
   },
   "file_extension": ".py",
   "mimetype": "text/x-python",
   "name": "python",
   "nbconvert_exporter": "python",
   "pygments_lexer": "ipython3",
   "version": "3.13.1"
  }
 },
 "nbformat": 4,
 "nbformat_minor": 2
}
