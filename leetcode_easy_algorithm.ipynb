{
 "cells": [
  {
   "cell_type": "code",
   "execution_count": 2,
   "metadata": {},
   "outputs": [],
   "source": [
    "from typing import List\n",
    "from collections import Counter"
   ]
  },
  {
   "cell_type": "code",
   "execution_count": 4,
   "metadata": {},
   "outputs": [
    {
     "data": {
      "text/plain": [
       "0"
      ]
     },
     "execution_count": 4,
     "metadata": {},
     "output_type": "execute_result"
    }
   ],
   "source": [
    "class Solution:\n",
    "    def countElements(self, arr: List[int]) -> int:\n",
    "        count = 0\n",
    "\n",
    "        for x in arr:\n",
    "            if x+1 in arr:\n",
    "                count+=1\n",
    "        return count\n",
    "        \n",
    "arr = [1,1,3,3,5,5,7,7]\n",
    "Solution().countElements(arr)"
   ]
  },
  {
   "cell_type": "code",
   "execution_count": 13,
   "metadata": {},
   "outputs": [
    {
     "data": {
      "text/plain": [
       "1794"
      ]
     },
     "execution_count": 13,
     "metadata": {},
     "output_type": "execute_result"
    }
   ],
   "source": [
    "class Solution:\n",
    "    def twoSumLessThanK(self, nums: List[int], k: int) -> int:\n",
    "        max_sum = 0\n",
    "\n",
    "\n",
    "        for i in range(len(nums)):\n",
    "            for j in range(i, len(nums)):\n",
    "                if i<j and nums[i] + nums[j] < k:\n",
    "                    max_sum = max(max_sum, nums[i] + nums[j])\n",
    "        \n",
    "        return max_sum\n",
    "\n",
    "\n",
    "nums = [358,898,450,732,672,672,256,542,320,573,423,543,591,280,399,923,920,254,135,952,115,536,143,896,411,722,815,635,353,486,127,146,974,495,229,21,733,918,314,670,671,537,533,716,140,599,758,777,185,549]\n",
    "k = 1800\n",
    "Solution().twoSumLessThanK(nums, k)"
   ]
  },
  {
   "cell_type": "code",
   "execution_count": null,
   "metadata": {},
   "outputs": [
    {
     "data": {
      "text/plain": [
       "{1: [100, 92, 91, 87, 65, 60], 2: [100, 97, 93, 77, 76]}"
      ]
     },
     "execution_count": 28,
     "metadata": {},
     "output_type": "execute_result"
    }
   ],
   "source": [
    "class Solution:\n",
    "    def highFive(self, items: List[List[int]]) -> List[List[int]]:\n",
    "        \n",
    "        items.sort(key=lambda x: x[1], reverse=True)\n",
    "\n",
    "        df = {}\n",
    "\n",
    "        for item in items:\n",
    "            id, grade  = item\n",
    "            \n",
    "            if id not in df:\n",
    "                df[id] = []\n",
    "        \n",
    "            df[id].append(grade)\n",
    "        \n",
    "        return df\n",
    "\n",
    "items = [[1,91],[1,92],[2,93],[2,97],[1,60],[2,77],[1,65],[1,87],[1,100],[2,100],[2,76]]\n",
    "Solution().highFive(items)"
   ]
  },
  {
   "cell_type": "code",
   "execution_count": null,
   "metadata": {},
   "outputs": [
    {
     "data": {
      "text/plain": [
       "[1, 5]"
      ]
     },
     "execution_count": 45,
     "metadata": {},
     "output_type": "execute_result"
    }
   ],
   "source": [
    "class Solution:\n",
    "    def arraysIntersection(self, arr1: List[int], arr2: List[int], arr3: List[int]) -> List[int]:\n",
    "\n",
    "        res = []\n",
    "\n",
    "        for n in arr1:\n",
    "            if n in arr2 and n in arr3:\n",
    "                res.append(n)\n",
    "        return res\n",
    "        \n",
    "arr1 = [1,2,3,4,5]\n",
    "arr2 = [1,2,5,7,9]\n",
    "arr3 = [1,3,4,5,8]\n",
    "Solution().arraysIntersection(arr1, arr2,arr3)"
   ]
  },
  {
   "cell_type": "code",
   "execution_count": null,
   "metadata": {},
   "outputs": [],
   "source": [
    "class Solution:\n",
    "    def finalPrices(self, prices: List[int]) -> List[int]:\n",
    "        \n",
    "        res = []\n",
    "\n",
    "        for i in range(len(prices)):\n",
    "            discount = False\n",
    "            for j in range(i+1, len(prices)):\n",
    "                if j > i and prices[j] <= prices[i]:\n",
    "                    discount = True\n",
    "                    res.append(prices[i]- prices[j])\n",
    "                    break\n",
    "            if not discount:\n",
    "                res.append(prices[i])\n",
    "        return res\n",
    "\n",
    "\n",
    "prices = [8,4,6,2,3]\n",
    "Solution().finalPrices(prices)"
   ]
  }
 ],
 "metadata": {
  "kernelspec": {
   "display_name": "Python 3",
   "language": "python",
   "name": "python3"
  },
  "language_info": {
   "codemirror_mode": {
    "name": "ipython",
    "version": 3
   },
   "file_extension": ".py",
   "mimetype": "text/x-python",
   "name": "python",
   "nbconvert_exporter": "python",
   "pygments_lexer": "ipython3",
   "version": "3.12.4"
  }
 },
 "nbformat": 4,
 "nbformat_minor": 2
}
