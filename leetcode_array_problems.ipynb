{
 "cells": [
  {
   "cell_type": "code",
   "execution_count": 2,
   "metadata": {},
   "outputs": [],
   "source": [
    "from typing import List\n",
    "from collections import Counter\n",
    "import numpy as np"
   ]
  },
  {
   "cell_type": "code",
   "execution_count": null,
   "metadata": {},
   "outputs": [],
   "source": [
    "class Solution:\n",
    "    def countCompleteDayPairs(self, hours: List[int]) -> int:\n",
    "       \n",
    "       res = -0\n",
    "       \n",
    "       for i in range(len(hours)):\n",
    "           for j in range(i+1, len(hours)):\n",
    "               if (hours[i] + hours[j]) % 24 ==0:\n",
    "                   res +=1\n",
    "       return res\n",
    "    \n",
    "hours = [72,48,24,3]\n",
    "\n",
    "sol = Solution().countCompleteDayPairs(hours)\n",
    "\n",
    "print(sol)"
   ]
  },
  {
   "cell_type": "code",
   "execution_count": 38,
   "metadata": {},
   "outputs": [
    {
     "name": "stdout",
     "output_type": "stream",
     "text": [
      "[5, 4]\n"
     ]
    }
   ],
   "source": [
    "from collections import Counter\n",
    "\n",
    "\n",
    "class Solution:\n",
    "    def getSneakyNumbers(self, nums: List[int]) -> List[int]:\n",
    "\n",
    "        count = Counter(nums)\n",
    "        res = []\n",
    "        for key, value in count.items():\n",
    "\n",
    "            if value == 2:\n",
    "                res.append(key)\n",
    "\n",
    "        return res\n",
    "    \n",
    "nums = [7,1,5,4,3,4,6,0,9,5,8,2]\n",
    "\n",
    "sol = Solution().getSneakyNumbers(nums)\n",
    "print(sol)"
   ]
  },
  {
   "cell_type": "code",
   "execution_count": 44,
   "metadata": {},
   "outputs": [
    {
     "name": "stdout",
     "output_type": "stream",
     "text": [
      "[8, 4, 6, 5, 6]\n"
     ]
    }
   ],
   "source": [
    "class Solution:\n",
    "    def getFinalState(self, nums: List[int], k: int, multiplier: int) -> List[int]:\n",
    "\n",
    "        for _ in range(k):\n",
    "\n",
    "            min_value = min(nums)\n",
    "\n",
    "            min_index = nums.index(min_value)\n",
    "\n",
    "            nums[min_index] *= multiplier\n",
    "\n",
    "        return nums\n",
    "\n",
    "nums = [2,1,3,5,6] \n",
    "k = 5\n",
    "multiplier = 2\n",
    "sol = Solution().getFinalState(nums, k, multiplier)\n",
    "\n",
    "print(sol)"
   ]
  },
  {
   "cell_type": "code",
   "execution_count": 74,
   "metadata": {},
   "outputs": [
    {
     "name": "stdout",
     "output_type": "stream",
     "text": [
      "[3, 4]\n"
     ]
    }
   ],
   "source": [
    "class Solution:\n",
    "    def stableMountains(self, height: List[int], threshold: int) -> List[int]:\n",
    "        res = []\n",
    "\n",
    "        for i in range(1,len(height)):\n",
    "            if height[i-1] > threshold:\n",
    "                res.append(i)\n",
    "        return res\n",
    "\n",
    "\n",
    "\n",
    "height = [1,2,3,4,5]\n",
    "threshold = 2\n",
    "\n",
    "sol = Solution().stableMountains(height, threshold)\n",
    "print(sol)"
   ]
  },
  {
   "cell_type": "code",
   "execution_count": 76,
   "metadata": {},
   "outputs": [
    {
     "name": "stdout",
     "output_type": "stream",
     "text": [
      "1\n"
     ]
    }
   ],
   "source": [
    "class Solution:\n",
    "    def minElement(self, nums: List[int]) -> int:\n",
    "\n",
    "        res = []\n",
    "\n",
    "        for n in nums:\n",
    "            digits = [int(x) for x in str(n)]\n",
    "\n",
    "            res.append(sum(digits))\n",
    "        \n",
    "        return min(res)\n",
    "\n",
    "\n",
    "nums = [10,12,13,14]\n",
    "\n",
    "sol = Solution().minElement(nums)\n",
    "\n",
    "print(sol)"
   ]
  },
  {
   "cell_type": "code",
   "execution_count": 97,
   "metadata": {},
   "outputs": [
    {
     "name": "stdout",
     "output_type": "stream",
     "text": [
      "False\n"
     ]
    }
   ],
   "source": [
    "class Solution:\n",
    "    def canAliceWin(self, nums: List[int]) -> bool:\n",
    "\n",
    "        single_digits = []\n",
    "        double_digits = []\n",
    "        \n",
    "        for n in nums:\n",
    "            if n > 9:\n",
    "              double_digits.append(n)\n",
    "            else:\n",
    "              single_digits.append(n)\n",
    "        \n",
    "        if sum(single_digits) != sum(double_digits):\n",
    "           return True\n",
    "        return False\n",
    "                \n",
    "\n",
    "\n",
    "nums = [1,2,3,4,10]\n",
    "\n",
    "sol = Solution().canAliceWin(nums)\n",
    "\n",
    "print(sol)"
   ]
  },
  {
   "cell_type": "code",
   "execution_count": 100,
   "metadata": {},
   "outputs": [
    {
     "name": "stdout",
     "output_type": "stream",
     "text": [
      "2\n"
     ]
    }
   ],
   "source": [
    "class Solution:\n",
    "    def numberOfPairs(self, nums1: List[int], nums2: List[int], k: int) -> int:\n",
    "        \n",
    "        count = 0\n",
    "\n",
    "        for i in range(len(nums1)):\n",
    "            for j in range(len(nums2)):\n",
    "\n",
    "                if nums1[i] % (nums2[j] * k ) ==0:\n",
    "                    count+=1\n",
    "        return count\n",
    "\n",
    "\n",
    "\n",
    "nums1 = [1,2,4,12]\n",
    "nums2 = [2,4]\n",
    "k = 3\n",
    "sol = Solution().numberOfPairs(nums1, nums2, k)\n",
    "print(sol)"
   ]
  },
  {
   "cell_type": "code",
   "execution_count": 107,
   "metadata": {},
   "outputs": [
    {
     "name": "stdout",
     "output_type": "stream",
     "text": [
      "3\n"
     ]
    }
   ],
   "source": [
    "class Solution:\n",
    "    def addedInteger(self, nums1: List[int], nums2: List[int]) -> int:\n",
    "        nums1 = sorted(nums1)\n",
    "        nums2 = sorted(nums2)\n",
    "\n",
    "        res= [y-x for x,y in zip(nums1, nums2)]\n",
    "\n",
    "        set_res = set(res)\n",
    "        return set_res.pop()\n",
    "        \n",
    "\n",
    "\n",
    "nums1 = [2,6,4]\n",
    "nums2 = [9,7,5]\n",
    "\n",
    "sol = Solution().addedInteger(nums1,nums2)\n",
    "print(sol)"
   ]
  },
  {
   "cell_type": "code",
   "execution_count": 117,
   "metadata": {},
   "outputs": [
    {
     "name": "stdout",
     "output_type": "stream",
     "text": [
      "False\n"
     ]
    }
   ],
   "source": [
    "class Solution:\n",
    "    def isArraySpecial(self, nums: List[int]) -> bool:\n",
    "        n = len(nums)\n",
    "\n",
    "        if n == 1:\n",
    "            return True\n",
    "        \n",
    "\n",
    "        for i in range(n-1):\n",
    "            if (nums[i] + nums[i+1]) % 2 != 0:\n",
    "                return False\n",
    "        return True\n",
    "\n",
    "\n",
    "nums = [2,1,4]\n",
    "sol = Solution().isArraySpecial(nums)\n",
    "print(sol)"
   ]
  },
  {
   "cell_type": "code",
   "execution_count": null,
   "metadata": {},
   "outputs": [
    {
     "name": "stdout",
     "output_type": "stream",
     "text": [
      "3\n"
     ]
    }
   ],
   "source": [
    "class Solution:\n",
    "    def duplicateNumbersXOR(self, nums: List[int]) -> int:\n",
    "        res = []\n",
    "        for i in range(len(nums)):\n",
    "            for j in range(i+1,len(nums)):\n",
    "               if nums[i] == nums[j]:\n",
    "                    res.append(nums[i])\n",
    "        result = 0\n",
    "        for x in res:\n",
    "            result ^=x\n",
    "        return result\n",
    "\n",
    "\n",
    "nums = [1,2,2,1]\n",
    "sol = Solution().duplicateNumbersXOR(nums)\n",
    "print(sol)"
   ]
  },
  {
   "cell_type": "code",
   "execution_count": 139,
   "metadata": {},
   "outputs": [
    {
     "name": "stdout",
     "output_type": "stream",
     "text": [
      "[2, 4]\n"
     ]
    }
   ],
   "source": [
    "class Solution:\n",
    "    def findMissingAndRepeatedValues(self, grid: List[List[int]]) -> List[int]:\n",
    "        nums =  [item for row in grid for item in row]\n",
    "\n",
    "\n",
    "        dp =  self.duplicate_value(nums)\n",
    "        ms = self.missingNumber(nums)\n",
    "\n",
    "        return [dp,ms]\n",
    "        \n",
    "\n",
    "    def missingNumber(self, nums: List[int]) -> int:\n",
    "        n = len(nums)\n",
    "        sum_expect = n * (n+1)//2\n",
    "              \n",
    "        return sum_expect - sum(set(nums))\n",
    "    \n",
    "    def duplicate_value(self, nums):\n",
    "        count = Counter(nums)\n",
    "\n",
    "        for key, val in count.items():\n",
    "            if val ==2:\n",
    "                return key \n",
    "        return 0\n",
    "\n",
    "\n",
    "grid = [[1,3],[2,2]]\n",
    "sol = Solution().findMissingAndRepeatedValues(grid)\n",
    "print(sol)"
   ]
  },
  {
   "cell_type": "code",
   "execution_count": null,
   "metadata": {},
   "outputs": [
    {
     "name": "stdout",
     "output_type": "stream",
     "text": [
      "[5, 2]\n"
     ]
    }
   ],
   "source": [
    "class Solution:\n",
    "    def numberGame(self, nums: List[int]) -> List[int]:\n",
    "\n",
    "        nums = sorted(nums)\n",
    "\n",
    "        res = []\n",
    "\n",
    "        while len(nums) != 0:\n",
    "            al_el = nums.pop(0)\n",
    "            bob_el = nums.pop(0)\n",
    "            res.append(bob_el)\n",
    "            res.append(al_el)\n",
    "        \n",
    "        return res\n",
    "  \n",
    "nums = [2,5]\n",
    "sol = Solution().numberGame(nums)\n",
    "print(sol)"
   ]
  },
  {
   "cell_type": "code",
   "execution_count": 211,
   "metadata": {},
   "outputs": [
    {
     "name": "stdout",
     "output_type": "stream",
     "text": [
      "66\n"
     ]
    }
   ],
   "source": [
    "class Solution:\n",
    "    def sumOfEncryptedInt(self, nums: List[int]) -> int:\n",
    "\n",
    "        res = []\n",
    "\n",
    "        for x in nums:\n",
    "            max_values = max(int(x) for x in str(x))\n",
    "\n",
    "            result = int(str(max_values) * len(str(x)))\n",
    "\n",
    "            res.append(result)\n",
    "        \n",
    "        return sum(res)\n",
    "        \n",
    "                      \n",
    "nums = [10,21,31]\n",
    "sol = Solution().sumOfEncryptedInt(nums)\n",
    "print(sol)"
   ]
  },
  {
   "cell_type": "code",
   "execution_count": 214,
   "metadata": {},
   "outputs": [
    {
     "name": "stdout",
     "output_type": "stream",
     "text": [
      "[2, 1]\n"
     ]
    }
   ],
   "source": [
    "class Solution:\n",
    "    def findIntersectionValues(self, nums1: List[int], nums2: List[int]) -> List[int]:\n",
    "        count, count2 = 0,0\n",
    "        for i in range(len(nums1)):\n",
    "            if nums1[i] in nums2:\n",
    "                count +=1\n",
    "\n",
    "        for i in range(len(nums2)):\n",
    "            if nums2[i] in nums1:\n",
    "                count2 +=1\n",
    "        \n",
    "        return [count, count2]\n",
    "\n",
    "nums1 = [2,3,2]\n",
    "nums2 = [1,2]\n",
    "sol = Solution().findIntersectionValues(nums1, nums2)\n",
    "print(sol)"
   ]
  },
  {
   "cell_type": "code",
   "execution_count": 257,
   "metadata": {},
   "outputs": [
    {
     "name": "stdout",
     "output_type": "stream",
     "text": [
      "['Bob', 'Alice', 'Bob']\n"
     ]
    }
   ],
   "source": [
    "class Solution:\n",
    "    def sortPeople(self, names: List[str], heights: List[int]) -> List[str]:\n",
    "        \n",
    "        outputs = dict(zip(heights,names))\n",
    "\n",
    "        result = [x for _, x in sorted(outputs.items(), key=lambda x: x[0], reverse=True)]\n",
    "\n",
    "        return result\n",
    "        \n",
    "\n",
    "\n",
    "\n",
    "names = [\"Alice\",\"Bob\",\"Bob\"]\n",
    "heights = [155,185,150]\n",
    "sol = Solution().sortPeople(names, heights)\n",
    "print(sol)\n"
   ]
  },
  {
   "cell_type": "code",
   "execution_count": 260,
   "metadata": {},
   "outputs": [
    {
     "data": {
      "text/plain": [
       "['Tablet', 'Monitor', 'Phone', 'Laptop']"
      ]
     },
     "execution_count": 260,
     "metadata": {},
     "output_type": "execute_result"
    }
   ],
   "source": [
    "def product_price(products, prices):\n",
    "    \n",
    "    product_dic = dict(zip(prices, products))\n",
    "\n",
    "    return [x for _, x in sorted(product_dic.items(), key=lambda x: x[0])]\n",
    "    \n",
    "products = [\"Laptop\", \"Phone\", \"Tablet\", \"Monitor\"]\n",
    "prices = [1200, 800, 300, 400]\n",
    "\n",
    "product_price(products, prices)"
   ]
  },
  {
   "cell_type": "code",
   "execution_count": 5,
   "metadata": {},
   "outputs": [
    {
     "name": "stdout",
     "output_type": "stream",
     "text": [
      "[1, 3, 2, 5, 8, 3, 7, 7]\n"
     ]
    }
   ],
   "source": [
    "class Solution:\n",
    "    def separateDigits(self, nums: List[int]) -> List[int]:\n",
    "        res = []\n",
    "        for n in nums:\n",
    "           for x in str(n):\n",
    "               res.append(int(x))\n",
    "        return res\n",
    "        \n",
    "        \n",
    "\n",
    "nums = [13,25,83,77]\n",
    "sol =  Solution().separateDigits(nums)\n",
    "print(sol)"
   ]
  },
  {
   "cell_type": "code",
   "execution_count": 108,
   "metadata": {},
   "outputs": [
    {
     "name": "stdout",
     "output_type": "stream",
     "text": [
      "[15, 1, 11, 22]\n"
     ]
    }
   ],
   "source": [
    "class Solution:\n",
    "    def leftRightDifference(self, nums: List[int]) -> List[int]:\n",
    "        left_sum = []\n",
    "        right_sum = []\n",
    "        rightSum = 0\n",
    "        leftSum = 0\n",
    "\n",
    "        for x in nums:\n",
    "            left_sum.append(leftSum)\n",
    "            leftSum+=x\n",
    "\n",
    "        for i in reversed(nums):\n",
    "            right_sum.append(rightSum)\n",
    "            rightSum+=i\n",
    "        \n",
    "        right_sum.sort(reverse=True)\n",
    "\n",
    "        \n",
    "        return [abs(x-y) for x, y in zip(left_sum, right_sum)]\n",
    "\n",
    "nums = [10,4,8,3]\n",
    "sol = Solution().leftRightDifference(nums)\n",
    "print(sol)"
   ]
  },
  {
   "cell_type": "code",
   "execution_count": 119,
   "metadata": {},
   "outputs": [
    {
     "name": "stdout",
     "output_type": "stream",
     "text": [
      "75\n"
     ]
    }
   ],
   "source": [
    "class Solution:\n",
    "    def maximizeSum(self, nums: List[int], k: int) -> int:\n",
    "        nums.sort()\n",
    "        res = []\n",
    "        for _ in range(k):\n",
    "            rm = nums.pop()\n",
    "            nums.append(rm+1)\n",
    "            res.append(rm)\n",
    "        \n",
    "        return sum(res)\n",
    "        \n",
    "\n",
    "nums = [4,4,9,10,10,9,3,8,4,2,5,3,8,6,1,10,4,5,3,2,3,9,5,7,10,4,9,10,1,10,4]\n",
    "k= 6\n",
    "sol = Solution().maximizeSum(nums, k)\n",
    "print(sol)"
   ]
  },
  {
   "cell_type": "code",
   "execution_count": 153,
   "metadata": {},
   "outputs": [
    {
     "name": "stdout",
     "output_type": "stream",
     "text": [
      "63\n"
     ]
    }
   ],
   "source": [
    "class Solution:\n",
    "    def sumOfSquares(self, nums: List[int]) -> int:\n",
    "        n = len(nums)\n",
    "        som =0\n",
    "\n",
    "        for i in range(n):\n",
    "            if n % (i+1) ==0:\n",
    "                som += nums[i] * nums[i]\n",
    "        return som\n",
    "\n",
    "\n",
    "nums = [2,7,1,19,18,3]\n",
    "sol = Solution().sumOfSquares(nums)\n",
    "print(sol)"
   ]
  },
  {
   "cell_type": "code",
   "execution_count": null,
   "metadata": {},
   "outputs": [
    {
     "name": "stdout",
     "output_type": "stream",
     "text": [
      "4\n"
     ]
    }
   ],
   "source": [
    "class Solution:\n",
    "    def findNonMinOrMax(self, nums: List[int]) -> int:\n",
    "\n",
    "        min_vale = min(nums)\n",
    "        max_vale = max(nums)\n",
    "        \n",
    "\n",
    "        for i in range(len(nums)):\n",
    "            if nums[i] != min_vale and nums[i] != max_vale:\n",
    "                return nums[i]       \n",
    "        return -1\n",
    "\n",
    "nums =[2,4,25]\n",
    "sol = Solution().findNonMinOrMax(nums)\n",
    "print(sol)"
   ]
  },
  {
   "cell_type": "code",
   "execution_count": null,
   "metadata": {},
   "outputs": [
    {
     "name": "stdout",
     "output_type": "stream",
     "text": [
      "2\n"
     ]
    }
   ],
   "source": [
    "class Solution:\n",
    "    def maximumNumberOfStringPairs(self, words: List[str]) -> int:\n",
    "        \n",
    "        count = 0\n",
    "        for i in range(len(words)):\n",
    "            for j in range(i+1, len(words)):\n",
    "                if words[i] == words[j][::-1]:\n",
    "                    count+=1\n",
    "        return count\n",
    "\n",
    "       \n",
    "words = [\"cd\",\"ac\",\"dc\",\"ca\",\"zz\"]\n",
    "sol = Solution().maximumNumberOfStringPairs(words)\n",
    "print(sol)"
   ]
  },
  {
   "cell_type": "code",
   "execution_count": null,
   "metadata": {},
   "outputs": [
    {
     "name": "stdout",
     "output_type": "stream",
     "text": [
      "4\n"
     ]
    }
   ],
   "source": [
    "class Solution:\n",
    "    def countKDifference(self, nums: List[int], k: int) -> int:\n",
    "        count =0\n",
    "\n",
    "        for i in range(len(nums)):\n",
    "            for j in range(i+1, len(nums)):\n",
    "                if abs(nums[i] - nums[j]) == k:\n",
    "                    count+=1\n",
    "        return count\n",
    "\n",
    "\n",
    "nums = [1,2,2,1]\n",
    "k = 1\n",
    "sol = Solution().countKDifference(nums,k)\n",
    "print(sol)"
   ]
  },
  {
   "cell_type": "code",
   "execution_count": 206,
   "metadata": {},
   "outputs": [
    {
     "name": "stdout",
     "output_type": "stream",
     "text": [
      "3\n"
     ]
    }
   ],
   "source": [
    "class Solution:\n",
    "    def finalValueAfterOperations(self, operations: List[str]) -> int:\n",
    "        \n",
    "        X = 0\n",
    "        for operation in operations:\n",
    "            if operation == \"--X\":\n",
    "                X-=1\n",
    "            elif operation == 'X--':\n",
    "                X-=1\n",
    "            elif operation == 'X++':\n",
    "                X+=1\n",
    "            else:\n",
    "                X+=1\n",
    "        \n",
    "        return X\n",
    "\n",
    "operations = [\"++X\",\"++X\",\"X++\"]\n",
    "sol = Solution().finalValueAfterOperations(operations)\n",
    "print(sol)"
   ]
  },
  {
   "cell_type": "code",
   "execution_count": null,
   "metadata": {},
   "outputs": [
    {
     "name": "stdout",
     "output_type": "stream",
     "text": [
      "ff\n"
     ]
    }
   ],
   "source": [
    "class Solution:\n",
    "    def kthDistinct(self, arr: List[str], k: int) -> str:\n",
    "       \n",
    "       freq = Counter(arr)\n",
    "\n",
    "       non_duplicates = [key for key, val in freq.items() if val ==1]\n",
    "\n",
    "       if len(non_duplicates) < k:\n",
    "           return \"\"\n",
    "       return non_duplicates[k-1]\n",
    "\n",
    "\n",
    "arr = [\"a\",\"b\",\"a\"]\n",
    "k = 3\n",
    "sol = Solution().kthDistinct(arr, k)\n",
    "print(sol)"
   ]
  },
  {
   "cell_type": "code",
   "execution_count": null,
   "metadata": {},
   "outputs": [
    {
     "name": "stdout",
     "output_type": "stream",
     "text": [
      "1\n"
     ]
    }
   ],
   "source": [
    "class Solution:\n",
    "    def countWords(self, words1: List[str], words2: List[str]) -> int:\n",
    "        duplicates = []\n",
    "\n",
    "        for w1 in words1:\n",
    "            for w2 in words2:\n",
    "                if w1 == w2:\n",
    "                    duplicates.append(w1)\n",
    "\n",
    "        freq = Counter(duplicates)\n",
    "\n",
    "        res = [key for key, val in freq.items() if val == 1]\n",
    "\n",
    "        return len(res)\n",
    "\n",
    "words1 = [\"a\",\"ab\"]\n",
    "words2 = [\"a\",\"a\",\"a\",\"ab\"]\n",
    "sol = Solution().countWords(words1,words2)\n",
    "print(sol)"
   ]
  },
  {
   "cell_type": "code",
   "execution_count": 245,
   "metadata": {},
   "outputs": [
    {
     "name": "stdout",
     "output_type": "stream",
     "text": [
      "ada\n"
     ]
    }
   ],
   "source": [
    "class Solution:\n",
    "    def firstPalindrome(self, words: List[str]) -> str:\n",
    "\n",
    "        res = []\n",
    "\n",
    "        for i in range(len(words)):\n",
    "            if words[i] == words[i][::-1]:\n",
    "                res.append(words[i])\n",
    "        \n",
    "        if len(res) == 0:\n",
    "            return \"\"\n",
    "        return res[0]\n",
    "        \n",
    "\n",
    "        \n",
    "words = [\"abc\",\"car\",\"ada\",\"racecar\",\"cool\"]\n",
    "sol = Solution().firstPalindrome(words)\n",
    "print(sol)"
   ]
  },
  {
   "cell_type": "code",
   "execution_count": 267,
   "metadata": {},
   "outputs": [
    {
     "name": "stdout",
     "output_type": "stream",
     "text": [
      "2\n"
     ]
    }
   ],
   "source": [
    "class Solution:\n",
    "    def smallestEqual(self, nums: List[int]) -> int:\n",
    "       \n",
    "        for i in range(len(nums)):\n",
    "            if i % 10 == nums[i]:\n",
    "                return i\n",
    "        return -1\n",
    "\n",
    "\n",
    "nums = [4,3,2,1]\n",
    "sol = Solution().smallestEqual(nums)\n",
    "print(sol)"
   ]
  },
  {
   "cell_type": "code",
   "execution_count": 279,
   "metadata": {},
   "outputs": [
    {
     "name": "stdout",
     "output_type": "stream",
     "text": [
      "16\n"
     ]
    }
   ],
   "source": [
    "class Solution:\n",
    "    def findFinalValue(self, nums: List[int], original: int) -> int:\n",
    "        \n",
    "        while original in nums:\n",
    "                original*=2\n",
    "        return original \n",
    "\n",
    "\n",
    "nums = [8,19,4,2,15,3]\n",
    "original = 2\n",
    "sol = Solution().findFinalValue(nums, original)\n",
    "print(sol)"
   ]
  },
  {
   "cell_type": "code",
   "execution_count": null,
   "metadata": {},
   "outputs": [
    {
     "name": "stdout",
     "output_type": "stream",
     "text": [
      "[[1, 3], [4, 6]]\n"
     ]
    }
   ],
   "source": [
    "class Solution:\n",
    "    def findDifference(self, nums1: List[int], nums2: List[int]) -> List[List[int]]:\n",
    "        ans1 = set()\n",
    "        ans2 = set()\n",
    "\n",
    "        for n in nums1:\n",
    "            if n not in nums2:\n",
    "                ans1.add(n)\n",
    "        \n",
    "        for n in nums2:\n",
    "            if n not in nums1:\n",
    "                ans2.add(n)\n",
    "        \n",
    "        return [list(ans1), list(ans2)]\n",
    "\n",
    "nums1 = [1,2,3]\n",
    "nums2 = [2,4,6]\n",
    "sol = Solution().findDifference(nums1, nums2)\n",
    "print(sol)"
   ]
  },
  {
   "cell_type": "code",
   "execution_count": 293,
   "metadata": {},
   "outputs": [
    {
     "name": "stdout",
     "output_type": "stream",
     "text": [
      "2\n"
     ]
    }
   ],
   "source": [
    "class Solution:\n",
    "    def arithmeticTriplets(self, nums: List[int], diff: int) -> int:\n",
    "        \n",
    "        n = len(nums)\n",
    "        count = 0\n",
    "        for i in range(n):\n",
    "            for j in range(i+1, n):\n",
    "                for k in range(j+1, n):\n",
    "                    if nums[j] - nums[i] == diff and nums[k] - nums[j] == diff:\n",
    "                        count+=1\n",
    "        return count\n",
    "        \n",
    "\n",
    "\n",
    "nums = [0,1,4,6,7,10]\n",
    "diff = 3\n",
    "sol = Solution().arithmeticTriplets(nums, diff)\n",
    "print(sol)"
   ]
  },
  {
   "cell_type": "code",
   "execution_count": 294,
   "metadata": {},
   "outputs": [
    {
     "name": "stdout",
     "output_type": "stream",
     "text": [
      "[1, 3, 6, 10]\n"
     ]
    }
   ],
   "source": [
    "class Solution:\n",
    "    def runningSum(self, nums: List[int]) -> List[int]:\n",
    "        \n",
    "        som = 0\n",
    "        res = []\n",
    "\n",
    "        for i in range(len(nums)):\n",
    "            som+=nums[i]\n",
    "            res.append(som)\n",
    "        \n",
    "        return res\n",
    "\n",
    "\n",
    "nums = [1,2,3,4]\n",
    "sol = Solution().runningSum(nums)\n",
    "print(sol)"
   ]
  },
  {
   "cell_type": "code",
   "execution_count": 296,
   "metadata": {},
   "outputs": [
    {
     "name": "stdout",
     "output_type": "stream",
     "text": [
      "4\n"
     ]
    }
   ],
   "source": [
    "class Solution:\n",
    "    def sumOfUnique(self, nums: List[int]) -> int:\n",
    "        \n",
    "        count = {}\n",
    "\n",
    "        for n in nums:\n",
    "            count[n] = count.get(n, 0)+1\n",
    "\n",
    "        return sum([key for key, val in count.items() if val ==1])\n",
    "\n",
    "\n",
    "nums = [1,2,3,2]\n",
    "sol = Solution().sumOfUnique(nums)\n",
    "print(sol)"
   ]
  },
  {
   "cell_type": "code",
   "execution_count": 300,
   "metadata": {},
   "outputs": [
    {
     "name": "stdout",
     "output_type": "stream",
     "text": [
      "0\n"
     ]
    }
   ],
   "source": [
    "class Solution:\n",
    "    def getMinDistance(self, nums: List[int], target: int, start: int) -> int:\n",
    "        \n",
    "        res = []\n",
    "        for i in range(len(nums)):\n",
    "            if nums[i] == target:\n",
    "                res.append(abs(i-start))\n",
    "        return min(res)\n",
    "\n",
    "\n",
    "nums =[1,1,1,1,1,1,1,1,1,1]\n",
    "target = 1\n",
    "start = 9\n",
    "sol = Solution().getMinDistance(nums, target, start)\n",
    "print(sol)"
   ]
  },
  {
   "cell_type": "code",
   "execution_count": 308,
   "metadata": {},
   "outputs": [
    {
     "name": "stdout",
     "output_type": "stream",
     "text": [
      "Hello how are you\n"
     ]
    }
   ],
   "source": [
    "class Solution:\n",
    "    def truncateSentence(self, s: str, k: int) -> str:\n",
    "        sen_arr =  s.split()\n",
    "\n",
    "        return \" \".join(sen_arr[:k])\n",
    "\n",
    "s = \"Hello how are you Contestant\"\n",
    "k = 4\n",
    "sol = Solution().truncateSentence(s, k)\n",
    "print(sol)"
   ]
  },
  {
   "cell_type": "code",
   "execution_count": 333,
   "metadata": {},
   "outputs": [
    {
     "name": "stdout",
     "output_type": "stream",
     "text": [
      "[-1, -1, 1, -1, -1, -1, -1, -1, -1]\n"
     ]
    }
   ],
   "source": [
    "class Solution:\n",
    "    def nextGreaterElement(self, nums1: List[int], nums2: List[int]) -> List[int]:\n",
    "        \n",
    "        res = []\n",
    "\n",
    "        for i in range(len(nums1)):\n",
    "            for j in range(len(nums2)-1):\n",
    "                if nums1[i] == nums2[j] and nums2[j] > nums2[j+1]:\n",
    "                    res.append(nums2[i])\n",
    "                else:\n",
    "                    res.append(-1)\n",
    "        return res\n",
    "# 1,3\n",
    "nums1 = [4,1,2] \n",
    "nums2 = [1,3,4,2]\n",
    "sol = Solution().nextGreaterElement(nums1, nums2)\n",
    "print(sol) "
   ]
  },
  {
   "cell_type": "code",
   "execution_count": 351,
   "metadata": {},
   "outputs": [
    {
     "name": "stdout",
     "output_type": "stream",
     "text": [
      "[[-25, -23]]\n"
     ]
    }
   ],
   "source": [
    "class Solution:\n",
    "    def minimumAbsDifference(self, arr: List[int]) -> List[List[int]]:\n",
    "\n",
    "        arr.sort()\n",
    "\n",
    "        res = []\n",
    "        for i in range(len(arr)-1):\n",
    "            res.append(abs(arr[i]-arr[i+1]))\n",
    "        \n",
    "        min_diff = min(res)\n",
    "\n",
    "        result = []\n",
    "\n",
    "        for i in range(len(arr)-1):\n",
    "            if abs(arr[i] - arr[i+1]) == min_diff:\n",
    "                result.append([arr[i] ,arr[i+1]])\n",
    "\n",
    "\n",
    "        return result\n",
    "                    \n",
    "                    \n",
    "arr = [-25,-51,-29,-23,57,-18]\n",
    "sol = Solution().minimumAbsDifference(arr)\n",
    "print(sol)"
   ]
  },
  {
   "cell_type": "code",
   "execution_count": null,
   "metadata": {},
   "outputs": [
    {
     "name": "stdout",
     "output_type": "stream",
     "text": [
      "2\n"
     ]
    }
   ],
   "source": [
    "class Solution:\n",
    "    def findNumbers(self, nums: List[int]) -> int:\n",
    "        \n",
    "        res = []\n",
    "        for n in nums:\n",
    "            result = [int(x) for x in str(n)]\n",
    "            res.append(result)\n",
    "        \n",
    "        count = 0\n",
    "        for x in res:\n",
    "            if len(x) % 2 ==0:\n",
    "                count+=1\n",
    "        \n",
    "        return count\n",
    "\n",
    "nums = [12,345,2,6,7896]\n",
    "sol = Solution().findNumbers(nums)\n",
    "print(sol)"
   ]
  },
  {
   "cell_type": "code",
   "execution_count": 389,
   "metadata": {},
   "outputs": [
    {
     "name": "stdout",
     "output_type": "stream",
     "text": [
      "[4, 0, 1, 1, 3]\n"
     ]
    }
   ],
   "source": [
    "class Solution:\n",
    "    def smallerNumbersThanCurrent(self, nums: List[int]) -> List[int]:\n",
    "        \n",
    "        res = []\n",
    "        for i in range(len(nums)):\n",
    "            count = 0\n",
    "            for j in range(len(nums)):\n",
    "                if j != i and nums[i] > nums[j]:\n",
    "                    count+=1\n",
    "            res.append(count)\n",
    "        return res\n",
    "\n",
    "nums = [8,1,2,2,3]\n",
    "sol = Solution().smallerNumbersThanCurrent(nums)\n",
    "print(sol)"
   ]
  },
  {
   "cell_type": "code",
   "execution_count": 407,
   "metadata": {},
   "outputs": [
    {
     "name": "stdout",
     "output_type": "stream",
     "text": [
      "[-1, 3, -1]\n"
     ]
    }
   ],
   "source": [
    "class Solution:\n",
    "    def nextGreaterElement(self, nums1: List[int], nums2: List[int]) -> List[int]:\n",
    "        \n",
    "        res = []\n",
    "        for n in nums1:\n",
    "            found = False\n",
    "            for i in range(len(nums2)):\n",
    "                 \n",
    "                if n == nums2[i]:\n",
    "\n",
    "                    for j in range(i+1, len(nums2)):\n",
    "                        if nums2[j] > nums2[i]:\n",
    "                            res.append(nums2[j])\n",
    "                            found = True\n",
    "                            break\n",
    "                    if not found:\n",
    "                        res.append(-1)\n",
    "        return res\n",
    "\n",
    "\n",
    "nums1 = [4,1,2]\n",
    "nums2 = [1,3,4,2]\n",
    "\n",
    "# nums1 = [2,4]\n",
    "# nums2 = [1,2,3,4]\n",
    "sol = Solution().nextGreaterElement(nums1, nums2)\n",
    "print(sol)"
   ]
  },
  {
   "cell_type": "code",
   "execution_count": 418,
   "metadata": {},
   "outputs": [
    {
     "name": "stdout",
     "output_type": "stream",
     "text": [
      "6\n"
     ]
    }
   ],
   "source": [
    "class Solution:\n",
    "    def maximumWealth(self, accounts: List[List[int]]) -> int:\n",
    "        res = []\n",
    "\n",
    "        for account in accounts:\n",
    "            res.append(sum(account))\n",
    "        return max(res)\n",
    "\n",
    "\n",
    "accounts = [[1,2,3],[3,2,1]]\n",
    "sol = Solution().maximumWealth(accounts)\n",
    "print(sol)"
   ]
  },
  {
   "cell_type": "code",
   "execution_count": 435,
   "metadata": {},
   "outputs": [
    {
     "name": "stdout",
     "output_type": "stream",
     "text": [
      "True\n"
     ]
    }
   ],
   "source": [
    "class Solution:\n",
    "    def arrayStringsAreEqual(self, word1: List[str], word2: List[str]) -> bool:\n",
    "        w1 = \"\".join(word1)\n",
    "        w2 = \"\".join(word2)\n",
    "        return w1 == w2\n",
    "        \n",
    "       \n",
    "word1 = [\"ab\", \"c\"]\n",
    "word2 = [\"a\", \"bc\"]\n",
    "sol = Solution().arrayStringsAreEqual(word1,word2)\n",
    "print(sol)"
   ]
  },
  {
   "cell_type": "code",
   "execution_count": 439,
   "metadata": {},
   "outputs": [
    {
     "name": "stdout",
     "output_type": "stream",
     "text": [
      "1\n"
     ]
    }
   ],
   "source": [
    "class Solution:\n",
    "    def largestAltitude(self, gain: List[int]) -> int:\n",
    "        res = [0]\n",
    "        som = 0\n",
    "\n",
    "        for x in gain:\n",
    "            som+=x\n",
    "            res.append(som)\n",
    "        return max(res)\n",
    "\n",
    "gain = [-5,1,5,0,-7]\n",
    "sol = Solution().largestAltitude(gain)\n",
    "print(sol)"
   ]
  },
  {
   "cell_type": "code",
   "execution_count": 448,
   "metadata": {},
   "outputs": [
    {
     "name": "stdout",
     "output_type": "stream",
     "text": [
      "['easy', 'problem']\n"
     ]
    }
   ],
   "source": [
    "class Solution:\n",
    "    def splitWordsBySeparator(self, words: List[str], separator: str) -> List[str]:\n",
    "        res = [word.split(separator) for word in words]\n",
    "\n",
    "        result = [item for x in res for item in x]\n",
    "        \n",
    "        w = []\n",
    "        for r in result:\n",
    "            if r != \"\":\n",
    "                w.append(r)\n",
    "        return w\n",
    "\n",
    "words = [\"$easy$\",\"$problem$\"]\n",
    "separator = \"$\"\n",
    "sol = Solution().splitWordsBySeparator(words, separator)\n",
    "print(sol)"
   ]
  },
  {
   "cell_type": "code",
   "execution_count": 465,
   "metadata": {},
   "outputs": [
    {
     "name": "stdout",
     "output_type": "stream",
     "text": [
      "10000\n"
     ]
    }
   ],
   "source": [
    "class Solution:\n",
    "    def mostFrequentEven(self, nums: List[int]) -> int:\n",
    "\n",
    "        if len(nums) == 1:\n",
    "            return nums[0]\n",
    "        \n",
    "        count = {}\n",
    "\n",
    "        for n in  nums:\n",
    "            if n % 2 ==0:\n",
    "                count[n] = count.get(n, 0)+1\n",
    "\n",
    "        res = [key for key, val in count.items() if val == max(count.values())]\n",
    "\n",
    "        if len(res) == 0:\n",
    "            return -1\n",
    "        return min(res)\n",
    "\n",
    "\n",
    "\n",
    "nums = [2,10000,10000,10000,2]\n",
    "sol = Solution().mostFrequentEven(nums)\n",
    "print(sol)"
   ]
  },
  {
   "cell_type": "code",
   "execution_count": 17,
   "metadata": {},
   "outputs": [
    {
     "name": "stdout",
     "output_type": "stream",
     "text": [
      "7\n"
     ]
    }
   ],
   "source": [
    "class Solution:\n",
    "    def deleteGreatestValue(self, grid: List[List[int]]) -> int:\n",
    "       \n",
    "        grid.sort()\n",
    "        res = []\n",
    "\n",
    "        while len(grid[0]) != 0:\n",
    "            max_value = max(grid[0])\n",
    "            grid[0].remove(max_value)\n",
    "            res.append(max_value)\n",
    "        return sum(res)\n",
    "              \n",
    "            \n",
    "grid = [[1,2,4],[3,3,1]]\n",
    "sol = Solution().deleteGreatestValue(grid)\n",
    "print(sol)"
   ]
  },
  {
   "cell_type": "code",
   "execution_count": 20,
   "metadata": {},
   "outputs": [
    {
     "name": "stdout",
     "output_type": "stream",
     "text": [
      "3\n"
     ]
    }
   ],
   "source": [
    "class Solution:\n",
    "    def maximumCount(self, nums: List[int]) -> int:\n",
    "        \n",
    "        neg_nums = 0\n",
    "        pos_nums = 0\n",
    "\n",
    "        for n in nums:\n",
    "            if n > 0:\n",
    "                pos_nums+=1\n",
    "            elif n < 0:\n",
    "                neg_nums +=1\n",
    "        return max([neg_nums, pos_nums])\n",
    "    \n",
    "nums = [-3,-2,-1,0,0,1,2]\n",
    "sol = Solution().maximumCount(nums)\n",
    "print(sol)"
   ]
  },
  {
   "cell_type": "code",
   "execution_count": 24,
   "metadata": {},
   "outputs": [
    {
     "name": "stdout",
     "output_type": "stream",
     "text": [
      "9\n"
     ]
    }
   ],
   "source": [
    "class Solution:\n",
    "    def differenceOfSum(self, nums: List[int]) -> int:\n",
    "        sum_nums = sum(nums)\n",
    "\n",
    "        digits = []\n",
    "\n",
    "        for n in nums:\n",
    "            res = [int(x) for x in str(n)]\n",
    "            digits.extend(res)\n",
    "        \n",
    "        digits_sum = sum(digits)\n",
    "\n",
    "        return abs(sum_nums - digits_sum)\n",
    "\n",
    "nums = [1,15,6,3]\n",
    "sol = Solution().differenceOfSum(nums)\n",
    "print(sol)"
   ]
  },
  {
   "cell_type": "code",
   "execution_count": 33,
   "metadata": {},
   "outputs": [
    {
     "name": "stdout",
     "output_type": "stream",
     "text": [
      "[-3, -1, 1, 3, 5]\n"
     ]
    }
   ],
   "source": [
    "class Solution:\n",
    "    def distinctDifferenceArray(self, nums: List[int]) -> List[int]:\n",
    "        \n",
    "        res = []\n",
    "\n",
    "        for i in range(len(nums)):\n",
    "            count = 0 \n",
    "            for j in range(i+1, len(nums)):\n",
    "                if nums[i] != nums[j]:\n",
    "                    count+=1\n",
    "            res.append(nums[i]-count)\n",
    "        return res\n",
    "\n",
    "nums = [1,2,3,4,5]\n",
    "sol = Solution().distinctDifferenceArray(nums)\n",
    "print(sol)"
   ]
  },
  {
   "cell_type": "code",
   "execution_count": 45,
   "metadata": {},
   "outputs": [
    {
     "name": "stdout",
     "output_type": "stream",
     "text": [
      "0\n"
     ]
    }
   ],
   "source": [
    "class Solution:\n",
    "    def buyChoco(self, prices: List[int], money: int) -> int:\n",
    "        res = []\n",
    "        prices.sort()\n",
    "        for i in range(len(prices)):\n",
    "            for j in range(i+1, len(prices)):\n",
    "                if (prices[i] + prices[j]) <= money:\n",
    "                    return money - (prices[i] + prices[j])\n",
    "        return money\n",
    "\n",
    "prices = [1,2,2]\n",
    "money = 3\n",
    "sol = Solution().buyChoco(prices, money)\n",
    "print(sol)"
   ]
  },
  {
   "cell_type": "code",
   "execution_count": 51,
   "metadata": {},
   "outputs": [
    {
     "name": "stdout",
     "output_type": "stream",
     "text": [
      "29\n"
     ]
    }
   ],
   "source": [
    "from math import floor, sqrt\n",
    "\n",
    "class Solution:\n",
    "    def pickGifts(self, gifts: List[int], k: int) -> int:\n",
    "        \n",
    "        for _ in range(k):\n",
    "            max_val = max(gifts)\n",
    "            max_index = gifts.index(max_val)\n",
    "            res = floor(sqrt(max_val))\n",
    "            gifts[max_index] = res \n",
    "        return sum(gifts)\n",
    "\n",
    "\n",
    "gifts = [25,64,9,4,100]\n",
    "k = 4\n",
    "sol = Solution().pickGifts(gifts, k)\n",
    "print(sol)"
   ]
  },
  {
   "cell_type": "code",
   "execution_count": 64,
   "metadata": {},
   "outputs": [
    {
     "name": "stdout",
     "output_type": "stream",
     "text": [
      "([1, 1], 2)\n"
     ]
    }
   ],
   "source": [
    "class Solution:\n",
    "    def rowAndMaximumOnes(self, mat: List[List[int]]) -> List[int]:\n",
    "        \n",
    "        res = []\n",
    "        count = 0\n",
    "        for i in range(len(mat)):\n",
    "            for j  in range(len(mat[i])):\n",
    "                if mat[i][j] == 1:\n",
    "                    count+=1\n",
    "                    res.append(i)\n",
    "        \n",
    "        return res, count\n",
    "\n",
    "\n",
    "mat = [[0,0,0],[0,1,1]]\n",
    "sol = Solution().rowAndMaximumOnes(mat)\n",
    "print(sol)"
   ]
  },
  {
   "cell_type": "code",
   "execution_count": 65,
   "metadata": {},
   "outputs": [
    {
     "name": "stdout",
     "output_type": "stream",
     "text": [
      "3\n"
     ]
    }
   ],
   "source": [
    "class Solution:\n",
    "    def numOfStrings(self, patterns: List[str], word: str) -> int:\n",
    "        count = 0\n",
    "        for p in patterns:\n",
    "            if p in word:\n",
    "                count+=1\n",
    "        return count\n",
    "\n",
    "\n",
    "patterns = [\"a\",\"abc\",\"bc\",\"d\"]\n",
    "word = \"abc\"\n",
    "sol = Solution().numOfStrings(patterns, word)\n",
    "print(sol)"
   ]
  },
  {
   "cell_type": "code",
   "execution_count": null,
   "metadata": {},
   "outputs": [
    {
     "name": "stdout",
     "output_type": "stream",
     "text": [
      "-1\n"
     ]
    }
   ],
   "source": [
    "class Solution:\n",
    "    def findMiddleIndex(self, nums: List[int]) -> int:\n",
    "        \n",
    "        for i in range(len(nums)):\n",
    "            if som == nums[i]:\n",
    "                return i \n",
    "        return -1\n",
    "\n",
    "nums = [2,3,-1,8,4]\n",
    "sol = Solution().findMiddleIndex(nums)\n",
    "print(sol)\n"
   ]
  },
  {
   "cell_type": "code",
   "execution_count": 97,
   "metadata": {},
   "outputs": [
    {
     "name": "stdout",
     "output_type": "stream",
     "text": [
      "3\n"
     ]
    }
   ],
   "source": [
    "class Solution:\n",
    "    def pivotIndex(self, nums: List[int]) -> int:\n",
    "        leftsum = 0\n",
    "        total_sum = sum(nums)\n",
    "\n",
    "        for i in range(len(nums)):\n",
    "           \n",
    "            rightsum = total_sum - leftsum - nums[i]\n",
    "            if leftsum == rightsum:\n",
    "                return i\n",
    "            leftsum+=nums[i]\n",
    "\n",
    "        return -1\n",
    "\n",
    "\n",
    "nums = [2,3,-1,8,4]\n",
    "sol = Solution().pivotIndex(nums)\n",
    "print(sol)"
   ]
  },
  {
   "cell_type": "code",
   "execution_count": 96,
   "metadata": {},
   "outputs": [
    {
     "name": "stdout",
     "output_type": "stream",
     "text": [
      "6\n"
     ]
    }
   ],
   "source": [
    "class Solution:\n",
    "    def pivotInteger(self, n: int) -> int:\n",
    "        arr = range(1,n+1)\n",
    "\n",
    "        total_sum = sum(arr)\n",
    "        leftsum = 0\n",
    "\n",
    "        for i in range(len(arr)):\n",
    "            rightsum = total_sum - leftsum - arr[i]\n",
    "\n",
    "            if leftsum == rightsum:\n",
    "                return arr[i]\n",
    "            leftsum+=arr[i]\n",
    "        return -1\n",
    "\n",
    "n = 8\n",
    "sol = Solution().pivotInteger(n)\n",
    "print(sol)"
   ]
  },
  {
   "cell_type": "code",
   "execution_count": 130,
   "metadata": {},
   "outputs": [
    {
     "name": "stdout",
     "output_type": "stream",
     "text": [
      "12.75\n"
     ]
    }
   ],
   "source": [
    "import numpy as np\n",
    "\n",
    "class Solution:\n",
    "    def findMaxAverage(self, nums: List[int], k: int) -> float:\n",
    "        res = []\n",
    "\n",
    "        for i in range(len(nums) - k+1):\n",
    "            mean_sub = np.mean(nums[i:i+k])\n",
    "            res.append(mean_sub)\n",
    "        return max(res)\n",
    "\n",
    "\n",
    "nums = [1,12,-5,-6,50,3]\n",
    "k = 4\n",
    "sol = Solution().findMaxAverage(nums, k)\n",
    "print(sol)"
   ]
  },
  {
   "cell_type": "code",
   "execution_count": 154,
   "metadata": {},
   "outputs": [
    {
     "name": "stdout",
     "output_type": "stream",
     "text": [
      "True\n"
     ]
    }
   ],
   "source": [
    "class Solution:\n",
    "    def findSubarrays(self, nums: List[int]) -> bool:\n",
    "        subarray = []\n",
    "\n",
    "        for i in range(len(nums)-2+1):\n",
    "            subarray.append(sum(nums[i:i+2]))\n",
    "        \n",
    "        for i in range(len(subarray)):\n",
    "            for j in range(i+1,len(subarray)):\n",
    "                if subarray[i] == subarray[j]:\n",
    "                    return True\n",
    "        return False\n",
    "\n",
    "nums = [1,-1,1,-1,1,-1,1]\n",
    "sol = Solution().findSubarrays(nums)\n",
    "print(sol)"
   ]
  },
  {
   "cell_type": "code",
   "execution_count": null,
   "metadata": {},
   "outputs": [
    {
     "name": "stdout",
     "output_type": "stream",
     "text": [
      "[[3], [1, 1, 1], [1, 2], [2, 1]]\n"
     ]
    }
   ],
   "source": [
    "class Solution:\n",
    "    def minSumOfLengths(self, arr: List[int], target: int) -> int:\n",
    "        res = []\n",
    "        count = 0\n",
    "        for i in range(len(arr)):\n",
    "            for j in range(i, len(arr)):\n",
    "                if sum(arr[i:j+1]) == target:\n",
    "                    res.append(arr[i:j+1])\n",
    "       \n",
    "        if len(res) == 1 or len(res) == 0:\n",
    "            return -1\n",
    "              \n",
    "        for s in res:\n",
    "            if len(s) == len(min(res, key=len)):\n",
    "                count+=1\n",
    "        \n",
    "        return res\n",
    "\n",
    "arr = [3,1,1,1,5,1,2,1]\n",
    "target = 3\n",
    "sol = Solution().minSumOfLengths(arr, target)\n",
    "print(sol)"
   ]
  },
  {
   "cell_type": "code",
   "execution_count": 187,
   "metadata": {},
   "outputs": [
    {
     "name": "stdout",
     "output_type": "stream",
     "text": [
      "58\n"
     ]
    }
   ],
   "source": [
    "class Solution:\n",
    "    def sumOddLengthSubarrays(self, arr: List[int]) -> int:\n",
    "        res = []\n",
    "        \n",
    "        for i in range(len(arr)):\n",
    "            for j in range(i,len(arr)):\n",
    "                if len(arr[i:j+1]) % 2 !=0:\n",
    "                    res.extend(arr[i:j+1])\n",
    "        return sum(res)\n",
    "\n",
    "arr = [1,4,2,5,3]\n",
    "sol = Solution().sumOddLengthSubarrays(arr)\n",
    "print(sol)"
   ]
  },
  {
   "cell_type": "code",
   "execution_count": 193,
   "metadata": {},
   "outputs": [
    {
     "name": "stdout",
     "output_type": "stream",
     "text": [
      "15\n"
     ]
    }
   ],
   "source": [
    "class Solution:\n",
    "    def sumCounts(self, nums: List[int]) -> int:\n",
    "        res = []\n",
    "        \n",
    "        for i in range(len(nums)):\n",
    "            for j in range(i,len(nums)):\n",
    "                res.append(len(list(set(nums[i:j+1]))))\n",
    "        return sum([x*x for x in res])\n",
    "\n",
    "nums = [1,2,1]\n",
    "sol = Solution().sumCounts(nums)\n",
    "print(sol)"
   ]
  },
  {
   "cell_type": "code",
   "execution_count": 214,
   "metadata": {},
   "outputs": [
    {
     "name": "stdout",
     "output_type": "stream",
     "text": [
      "[10, 13, 14, 15, 3, 4, 5, 1, 2, 1]\n"
     ]
    }
   ],
   "source": [
    "class Solution:\n",
    "    def minimumCost(self, nums: List[int]) -> int:\n",
    "        res = []\n",
    "        for i in range(len(nums)):\n",
    "            for j in range(i, len(nums)):\n",
    "                res.append(sum(nums[i:j+1]))\n",
    "        \n",
    "        return res\n",
    "            \n",
    "\n",
    "\n",
    "nums = [10,3,1,1]\n",
    "sol = Solution().minimumCost(nums)\n",
    "print(sol)"
   ]
  },
  {
   "cell_type": "code",
   "execution_count": 252,
   "metadata": {},
   "outputs": [
    {
     "name": "stdout",
     "output_type": "stream",
     "text": [
      "-1\n"
     ]
    }
   ],
   "source": [
    "class Solution:\n",
    "    def minimumSubarrayLength(self, nums: List[int], k: int) -> int:\n",
    "        res = []\n",
    "        for i in range(len(nums)):\n",
    "            for j in range(i, len(nums)):\n",
    "                result = 0\n",
    "                for n in range(len(nums[i:j+1])):\n",
    "                    result|=nums[i:j+1][n]\n",
    "                if result >= k:\n",
    "                    res.append(nums[i:j+1])\n",
    "        \n",
    "        if not res:\n",
    "            return -1\n",
    "        return len(min(res, key=len))\n",
    "        \n",
    "\n",
    "nums = [1,12,2,5]\n",
    "k = 43\n",
    "print(Solution().minimumSubarrayLength(nums,k))"
   ]
  },
  {
   "cell_type": "code",
   "execution_count": 40,
   "metadata": {},
   "outputs": [
    {
     "name": "stdout",
     "output_type": "stream",
     "text": [
      "False\n"
     ]
    }
   ],
   "source": [
    "class Solution:\n",
    "    def hasIncreasingSubarrays(self, nums: List[int], k: int) -> bool:\n",
    "        # Create a list to store whether each subarray of length k is strictly increasing\n",
    "        res = []\n",
    "        \n",
    "        # Extract all subarrays of length k and check if they are strictly increasing\n",
    "        for i in range(len(nums) - k + 1):\n",
    "            r = self.strictly_increasing(nums[i:i+k])\n",
    "            res.append(r)\n",
    "        \n",
    "        # Check for two consecutive subarrays that are strictly increasing\n",
    "        for i in range(len(res) - 1):\n",
    "            if res[i] and res[i + 1]:  # Check adjacent subarrays\n",
    "                return True\n",
    "        \n",
    "        return False  # Return False if no such pair is found\n",
    "\n",
    "    def strictly_increasing(self, nums):\n",
    "        # Check if the given subarray is strictly increasing\n",
    "        for i in range(len(nums) - 1):\n",
    "            if nums[i] >= nums[i + 1]:\n",
    "                return False  # Return False if the subarray is not strictly increasing\n",
    "        return True  # Return True if the subarray is strictly increasing\n",
    "\n",
    "\n",
    "nums =[5,8,-2,-1]\n",
    "k = 2\n",
    "print(Solution().hasIncreasingSubarrays(nums, k))"
   ]
  },
  {
   "cell_type": "code",
   "execution_count": null,
   "metadata": {},
   "outputs": [
    {
     "name": "stdout",
     "output_type": "stream",
     "text": [
      "3\n"
     ]
    }
   ],
   "source": [
    "class Solution:\n",
    "    def findMaxConsecutiveOnes(self, nums: List[int]) -> int:\n",
    "        res = []\n",
    "        count = 0\n",
    "\n",
    "        for i in range(len(nums)):\n",
    "            if nums[i] == 1:\n",
    "                count+=1\n",
    "            else:\n",
    "                if count > 0:\n",
    "                   res.append(count)\n",
    "                count = 0\n",
    "        \n",
    "        if count > 0:\n",
    "            res.append(count)\n",
    "        return max(res)\n",
    "\n",
    "\n",
    "nums = [0]\n",
    "print(Solution().findMaxConsecutiveOnes(nums))"
   ]
  },
  {
   "cell_type": "code",
   "execution_count": 54,
   "metadata": {},
   "outputs": [
    {
     "name": "stdout",
     "output_type": "stream",
     "text": [
      "2\n"
     ]
    }
   ],
   "source": [
    "class Solution:\n",
    "    def uniqueMorseRepresentations(self, words: List[str]) -> int:\n",
    "        dicti = {'a':\".-\", 'b':\"-...\", 'c':\"-.-.\", 'd':\"-..\", 'e':\".\", 'f':\"..-.\", 'g':\"--.\", 'h':\"....\", 'i':\"..\", 'j':\".---\", 'k':\"-.-\", 'l':\".-..\", 'm':\"--\", 'n':\"-.\", 'o':\"---\", 'p':\".--.\", 'q':\"--.-\", 'r':\".-.\", 's':\"...\", 't':\"-\", 'u':\"..-\", 'v':\"...-\", 'w':\".--\", 'x':\"-..-\", 'y':\"-.--\", 'z':\"--..\"}\n",
    "        \n",
    "        res = set()\n",
    "\n",
    "        for word in words:\n",
    "            morse_word = []\n",
    "            for i in range(len(word)):\n",
    "                for key, val in dicti.items():\n",
    "                    if word[i] == key:\n",
    "                        morse_word.append(val)\n",
    "            res.add(\"\".join(morse_word))\n",
    "        return len(res)\n",
    "\n",
    "words = [\"gin\",\"zen\",\"gig\",\"msg\"]\n",
    "print(Solution().uniqueMorseRepresentations(words))"
   ]
  },
  {
   "cell_type": "code",
   "execution_count": 56,
   "metadata": {},
   "outputs": [
    {
     "name": "stdout",
     "output_type": "stream",
     "text": [
      "[0, 1, 9, 16, 100]\n"
     ]
    }
   ],
   "source": [
    "class Solution:\n",
    "    def sortedSquares(self, nums: List[int]) -> List[int]:\n",
    "        return sorted([x*x for x in nums])\n",
    "\n",
    "\n",
    "nums = [-4,-1,0,3,10]\n",
    "print(Solution().sortedSquares(nums))"
   ]
  },
  {
   "cell_type": "code",
   "execution_count": 76,
   "metadata": {},
   "outputs": [
    {
     "name": "stdout",
     "output_type": "stream",
     "text": [
      "3\n"
     ]
    }
   ],
   "source": [
    "class Solution:\n",
    "    def heightChecker(self, heights: List[int]) -> int:\n",
    "        sorted_heights = sorted(heights)\n",
    "        \n",
    "        count = 0\n",
    "\n",
    "        for i in range(len(heights)):\n",
    "            if  sorted_heights[i] != heights[i]:\n",
    "                count+=1\n",
    "        return count\n",
    "\n",
    "\n",
    "heights = [1,1,4,2,1,3]\n",
    "print(Solution().heightChecker(heights))"
   ]
  },
  {
   "cell_type": "code",
   "execution_count": 84,
   "metadata": {},
   "outputs": [
    {
     "name": "stdout",
     "output_type": "stream",
     "text": [
      "2\n"
     ]
    }
   ],
   "source": [
    "class Solution:\n",
    "    def repeatedNTimes(self, nums: List[int]) -> int:\n",
    "        n = len(nums)\n",
    "        occurence = n/2\n",
    "        freq= Counter(nums)\n",
    "\n",
    "        for key, val in freq.items():\n",
    "            if val  == occurence:\n",
    "                return key\n",
    "        return -1\n",
    "\n",
    "\n",
    "nums = [2,1,2,5,3,2]\n",
    "print(Solution().repeatedNTimes(nums))"
   ]
  },
  {
   "cell_type": "code",
   "execution_count": 134,
   "metadata": {},
   "outputs": [
    {
     "name": "stdout",
     "output_type": "stream",
     "text": [
      "8\n"
     ]
    }
   ],
   "source": [
    "class Solution:\n",
    "    def countNegatives(self, grid: List[List[int]]) -> int:\n",
    "        count = 0 \n",
    "        \n",
    "        for row in grid:\n",
    "            for r in row:\n",
    "                if r < 0:\n",
    "                    count+=1\n",
    "        return count\n",
    "        \n",
    "        \n",
    "\n",
    "grid = [[4,3,2,-1],[3,2,1,-1],[1,1,-1,-2],[-1,-1,-2,-3]]\n",
    "print(Solution().countNegatives(grid))"
   ]
  },
  {
   "cell_type": "code",
   "execution_count": 145,
   "metadata": {},
   "outputs": [
    {
     "name": "stdout",
     "output_type": "stream",
     "text": [
      "5.5\n"
     ]
    }
   ],
   "source": [
    "class Solution:\n",
    "    def minimumAverage(self, nums: List[int]) -> float:\n",
    "        res = []\n",
    "        \n",
    "        while len(nums) != 0:\n",
    "            max_val = max(nums)\n",
    "            min_val = min(nums)\n",
    "            res.append((max_val+min_val)/2)\n",
    "            nums.remove(max_val)\n",
    "            nums.remove(min_val)\n",
    "\n",
    "        return min(res)\n",
    "         \n",
    "        \n",
    "\n",
    "nums = [7,8,3,4,15,13,4,1]\n",
    "print(Solution().minimumAverage(nums))"
   ]
  },
  {
   "cell_type": "code",
   "execution_count": 221,
   "metadata": {},
   "outputs": [
    {
     "name": "stdout",
     "output_type": "stream",
     "text": [
      "2\n"
     ]
    }
   ],
   "source": [
    "class Solution:\n",
    "    def distinctAverages(self, nums: List[int]) -> int:\n",
    "        res = set()\n",
    "\n",
    "        while len(nums) != 0:\n",
    "            min_value = min(nums)\n",
    "            max_value = max(nums)\n",
    "            res.add((min_value+max_value)/2)\n",
    "            nums.remove(min_value)\n",
    "            nums.remove(max_value)\n",
    "        return len(res)\n",
    "\n",
    "\n",
    "\n",
    "nums = [4,1,4,0,3,5]\n",
    "print(Solution().distinctAverages(nums))"
   ]
  },
  {
   "cell_type": "code",
   "execution_count": 226,
   "metadata": {},
   "outputs": [
    {
     "name": "stdout",
     "output_type": "stream",
     "text": [
      "20\n"
     ]
    }
   ],
   "source": [
    "class Solution:\n",
    "    def findDelayedArrivalTime(self, arrivalTime: int, delayedTime: int) -> int:\n",
    "\n",
    "        res = arrivalTime + delayedTime\n",
    "\n",
    "        if res % 24 == 0:\n",
    "            return 0\n",
    "        return res % 24\n",
    "\n",
    "arrivalTime = 15\n",
    "delayedTime = 5\n",
    "print(Solution().findDelayedArrivalTime(arrivalTime, delayedTime))"
   ]
  },
  {
   "cell_type": "code",
   "execution_count": 245,
   "metadata": {},
   "outputs": [
    {
     "name": "stdout",
     "output_type": "stream",
     "text": [
      "15\n"
     ]
    }
   ],
   "source": [
    "class Solution:\n",
    "    def maximumSubarraySum(self, nums: List[int], k: int) -> int:\n",
    "        res = set()\n",
    "        \n",
    "        for i in range(len(nums)-k+1):\n",
    "            if len(nums[i:i+k]) == len(set(nums[i:i+k])):\n",
    "               res.add(tuple(nums[i:i+k]))\n",
    "\n",
    "        if not res:\n",
    "            return 0\n",
    "        return max([sum(r) for r in res])\n",
    "\n",
    "nums = [1,5,4,2,9,9,9]\n",
    "k = 3\n",
    "print(Solution().maximumSubarraySum(nums, k))"
   ]
  },
  {
   "cell_type": "code",
   "execution_count": 252,
   "metadata": {},
   "outputs": [
    {
     "name": "stdout",
     "output_type": "stream",
     "text": [
      "1\n"
     ]
    }
   ],
   "source": [
    "class Solution:\n",
    "    def busyStudent(self, startTime: List[int], endTime: List[int], queryTime: int) -> int:\n",
    "        count = 0\n",
    "\n",
    "        for i in range(len(startTime)):\n",
    "                if endTime[i] >= queryTime and startTime[i] <= queryTime:\n",
    "                    count+=1\n",
    "        return count\n",
    "\n",
    "\n",
    "startTime = [1,2,3]\n",
    "endTime = [3,2,7]\n",
    "queryTime = 4\n",
    "print(Solution().busyStudent(startTime, endTime, queryTime))"
   ]
  },
  {
   "cell_type": "code",
   "execution_count": 262,
   "metadata": {},
   "outputs": [
    {
     "name": "stdout",
     "output_type": "stream",
     "text": [
      "3\n"
     ]
    }
   ],
   "source": [
    "class Solution:\n",
    "    def lengthOfLongestSubstring(self, s: str) -> int:\n",
    "        res = set()\n",
    "        for i in range(len(s)):\n",
    "            for j in range(i, len(s)):\n",
    "                if len(s[i:j+1]) == len(set(s[i:j+1])):\n",
    "                    res.add(s[i:j+1])\n",
    "        \n",
    "        if not res:\n",
    "            return 0\n",
    "        return len(max(res, key=len))\n",
    "        \n",
    "\n",
    "s = \"abcabcbb\"\n",
    "print(Solution().lengthOfLongestSubstring(s))"
   ]
  },
  {
   "cell_type": "code",
   "execution_count": 268,
   "metadata": {},
   "outputs": [
    {
     "name": "stdout",
     "output_type": "stream",
     "text": [
      "4\n"
     ]
    }
   ],
   "source": [
    "class Solution:\n",
    "    def countCompleteSubarrays(self, nums: List[int]) -> int:\n",
    "        \n",
    "        sett = set(nums)\n",
    "        res = []\n",
    "\n",
    "        for i in range(len(nums)):\n",
    "            for j in range(i, len(nums)):\n",
    "                sublist = nums[i:j+1]\n",
    "                if set(sublist) == sett:\n",
    "                    res.append(sublist)\n",
    "        \n",
    "        if not res:\n",
    "            return 0\n",
    "        return len(res)\n",
    "\n",
    "\n",
    "nums = [1,3,1,2,2]\n",
    "print(Solution().countCompleteSubarrays(nums))"
   ]
  },
  {
   "cell_type": "code",
   "execution_count": 284,
   "metadata": {},
   "outputs": [
    {
     "name": "stdout",
     "output_type": "stream",
     "text": [
      "65\n"
     ]
    }
   ],
   "source": [
    "class Solution:\n",
    "    def maxAscendingSum(self, nums: List[int]) -> int:\n",
    "        \n",
    "        res = []\n",
    "        for i in range(len(nums)):\n",
    "            for j in range(i, len(nums)):\n",
    "                subarray = nums[i:j+1]\n",
    "                if self.strictly_increasing(subarray):\n",
    "                    res.append(sum(subarray))\n",
    "        \n",
    "        if not res:\n",
    "            return -1\n",
    "        return max(res)\n",
    "    \n",
    "    def strictly_increasing(self, num):\n",
    "        \n",
    "        for i in range(len(num)-1):\n",
    "            if num[i+1] <= num[i]:\n",
    "                return False\n",
    "        return True\n",
    "\n",
    "nums = [10,20,30,5,10,50]  \n",
    "print(Solution().maxAscendingSum(nums))"
   ]
  },
  {
   "cell_type": "code",
   "execution_count": null,
   "metadata": {},
   "outputs": [
    {
     "name": "stdout",
     "output_type": "stream",
     "text": [
      "[[3, 2, 5], [3, 2, 5, 4], [2, 5], [2, 5, 4]]\n"
     ]
    }
   ],
   "source": [
    "class Solution:\n",
    "    def longestAlternatingSubarray(self, nums: List[int], threshold: int) -> int:\n",
    "        \n",
    "        res = self.generate_subarray(nums)\n",
    "        r = []\n",
    "\n",
    "        for row in res:\n",
    "            for i in range(len(row)-1):\n",
    "                if row[i] != nums[0] and row[i] % 2 == 0 and row[i] % 2 != row[i + 1] % 2 and row[i] <= threshold:\n",
    "                    r.append(row)\n",
    "        return r\n",
    "\n",
    "    def generate_subarray(self, nums):\n",
    "        res = []\n",
    "        \n",
    "        for i in range(len(nums)):\n",
    "            for j in range(i, len(nums)):\n",
    "                subarr = nums[i:j+1]\n",
    "                res.append(subarr)\n",
    "        return res\n",
    "    \n",
    "\n",
    "nums = [3,2,5,4]\n",
    "threshold = 5\n",
    "print(Solution().longestAlternatingSubarray(nums, threshold))"
   ]
  },
  {
   "cell_type": "code",
   "execution_count": 318,
   "metadata": {},
   "outputs": [
    {
     "data": {
      "text/plain": [
       "83"
      ]
     },
     "execution_count": 318,
     "metadata": {},
     "output_type": "execute_result"
    }
   ],
   "source": [
    "def unpack_list(arr):\n",
    "    res = []\n",
    "    \n",
    "    for row in arr:\n",
    "        if isinstance(row, list):\n",
    "            res.extend(unpack_list(row))\n",
    "        else:\n",
    "            res.append(row)\n",
    "    return res\n",
    "\n",
    "nums = [11, [2,[2],[2]],33 ,[33]]\n",
    "sum(unpack_list(nums))"
   ]
  },
  {
   "cell_type": "code",
   "execution_count": 3,
   "metadata": {},
   "outputs": [
    {
     "name": "stdout",
     "output_type": "stream",
     "text": [
      "[0, 1, 2, 4, 5, 3]\n"
     ]
    }
   ],
   "source": [
    "class Solution:\n",
    "    def buildArray(self, nums: List[int]) -> List[int]:\n",
    "        res = []\n",
    "\n",
    "        for i in range(len(nums)):\n",
    "            res.append(nums[nums[i]])\n",
    "        return res\n",
    "\n",
    "nums = [0,2,1,5,3,4]\n",
    "print(Solution().buildArray(nums))\n",
    "        "
   ]
  },
  {
   "cell_type": "code",
   "execution_count": 43,
   "metadata": {},
   "outputs": [
    {
     "name": "stdout",
     "output_type": "stream",
     "text": [
      "[True, True, True, False, True]\n"
     ]
    }
   ],
   "source": [
    "class Solution:\n",
    "    def kidsWithCandies(self, candies: List[int], extraCandies: int) -> List[bool]:\n",
    "        result = []\n",
    "        max_canide = max(candies)\n",
    "        for i in range(len(candies)):\n",
    "            if candies[i] + extraCandies >= max_canide:\n",
    "                result.append(True)\n",
    "            else:\n",
    "                result.append(False)\n",
    "        return result\n",
    "        \n",
    "\n",
    "candies = [2,3,5,1,3]\n",
    "extraCandies = 3\n",
    "print(Solution().kidsWithCandies(candies, extraCandies))"
   ]
  },
  {
   "cell_type": "code",
   "execution_count": 73,
   "metadata": {},
   "outputs": [
    {
     "name": "stdout",
     "output_type": "stream",
     "text": [
      "[0, 4, 1, 3, 2]\n"
     ]
    }
   ],
   "source": [
    "class Solution:\n",
    "    def createTargetArray(self, nums: List[int], index: List[int]) -> List[int]:\n",
    "        target = []\n",
    "\n",
    "        for i in range(len(nums)):\n",
    "            target.insert(index[i], nums[i])\n",
    "        return target\n",
    "        \n",
    "nums = [0,1,2,3,4]\n",
    "index = [0,1,2,2,1]\n",
    "print(Solution().createTargetArray(nums, index))"
   ]
  },
  {
   "cell_type": "code",
   "execution_count": null,
   "metadata": {},
   "outputs": [
    {
     "data": {
      "text/plain": [
       "[1]"
      ]
     },
     "execution_count": 94,
     "metadata": {},
     "output_type": "execute_result"
    }
   ],
   "source": [
    "class MyHashSet:\n",
    "\n",
    "    def __init__(self):\n",
    "        self.sett = []\n",
    "\n",
    "    def add(self, key: int) -> None:\n",
    "        val = self.contains(key)\n",
    "        if not val:\n",
    "            self.sett.append(key)\n",
    "       \n",
    "    def remove(self, key: int) -> None:\n",
    "        for k in self.sett:\n",
    "            if k == key:\n",
    "                self.sett.remove(k)\n",
    "\n",
    "    def contains(self, key: int) -> bool:\n",
    "        for i in range(len(self.sett)):\n",
    "            if self.sett[i] == key:\n",
    "                return True\n",
    "        return False\n",
    "    \n",
    "sett = MyHashSet()\n",
    "sett.add(2)\n",
    "sett.add(1)\n",
    "sett.contains(1)\n",
    "sett.remove(2)\n",
    "sett.sett\n"
   ]
  },
  {
   "cell_type": "code",
   "execution_count": 124,
   "metadata": {},
   "outputs": [
    {
     "name": "stdout",
     "output_type": "stream",
     "text": [
      "lEOtcede\n"
     ]
    }
   ],
   "source": [
    "class Solution:\n",
    "    def sortVowels(self, s: str) -> str:\n",
    "        vowels_list = ['a', 'e', 'i', 'o', 'u']\n",
    "        indices = []\n",
    "        vowels = []\n",
    "    \n",
    "\n",
    "        for i in range(len(s)):\n",
    "            if s[i].lower() in vowels_list:\n",
    "                indices.append(i)\n",
    "                vowels.append(s[i])\n",
    "\n",
    "        vowels.sort()\n",
    "\n",
    "        ss = list(s)\n",
    "\n",
    "        for i in range(len(indices)):\n",
    "            ss[indices[i]] = vowels[i]\n",
    "            \n",
    "        return \"\".join(ss)\n",
    "                \n",
    "        \n",
    "        \n",
    "s = \"lEetcOde\"\n",
    "print(Solution().sortVowels(s))"
   ]
  },
  {
   "cell_type": "code",
   "execution_count": 135,
   "metadata": {},
   "outputs": [
    {
     "name": "stdout",
     "output_type": "stream",
     "text": [
      "AceCreIm\n"
     ]
    }
   ],
   "source": [
    "class Solution:\n",
    "    def reverseVowels(self, s: str) -> str:\n",
    "        vowels_list = ['a', 'e', 'i', 'o', 'u']\n",
    "        vowels = []\n",
    "        indices = []\n",
    "\n",
    "        for i in range(len(s)):\n",
    "            if s[i].lower() in vowels_list:\n",
    "                vowels.append(s[i])\n",
    "                indices.append(i)\n",
    "        \n",
    "        vowels = list(reversed(vowels))\n",
    "\n",
    "        ss = list(s)\n",
    "\n",
    "        for i in range(len(indices)):\n",
    "            ss[indices[i]] = vowels[i]\n",
    "        \n",
    "        return \"\".join(ss)\n",
    "\n",
    "\n",
    "s = \"IceCreAm\"\n",
    "print(Solution().reverseVowels(s))"
   ]
  },
  {
   "cell_type": "code",
   "execution_count": 146,
   "metadata": {},
   "outputs": [
    {
     "name": "stdout",
     "output_type": "stream",
     "text": [
      "True\n"
     ]
    }
   ],
   "source": [
    "class Solution:\n",
    "    def isSameAfterReversals(self, num: int) -> bool:\n",
    "     \n",
    "        fr =  self.reverse_num(num)\n",
    "        sc = self.reverse_num(fr)\n",
    "\n",
    "        return sc == num\n",
    "    \n",
    "    def reverse_num(self, n):\n",
    "        return int(\"\".join(list(reversed(str(n)))))\n",
    "\n",
    "num = 526\n",
    "print(Solution().isSameAfterReversals(num))"
   ]
  },
  {
   "cell_type": "code",
   "execution_count": null,
   "metadata": {},
   "outputs": [
    {
     "name": "stdout",
     "output_type": "stream",
     "text": [
      "2\n"
     ]
    }
   ],
   "source": [
    "class Solution:\n",
    "    def minimumChairs(self, s: str) -> int:\n",
    "        people = 0\n",
    "        res = []\n",
    "\n",
    "        for i in range(len(s)):\n",
    "            if s[i] == 'E':\n",
    "                people+=1\n",
    "                res.append(people)\n",
    "            elif s[i] == 'L':\n",
    "                people-=1\n",
    "                res.append(people)\n",
    "        return max(res)\n",
    "\n",
    "\n",
    "        \n",
    "s = \"ELELEEL\"\n",
    "print(Solution().minimumChairs(s))"
   ]
  },
  {
   "cell_type": "code",
   "execution_count": 178,
   "metadata": {},
   "outputs": [
    {
     "data": {
      "text/plain": [
       "True"
      ]
     },
     "execution_count": 178,
     "metadata": {},
     "output_type": "execute_result"
    }
   ],
   "source": [
    "class Solution:\n",
    "    def isAcronym(self, words: List[str], s: str) -> bool:\n",
    "        ac = []\n",
    "\n",
    "        for word in words:\n",
    "            ac.append(word[0])\n",
    "        \n",
    "        res = \"\".join(ac)\n",
    "        return res == s\n",
    "\n",
    "\n",
    "words = [\"alice\",\"bob\",\"charlie\"]\n",
    "s = \"abc\"\n",
    "Solution().isAcronym(words, s)"
   ]
  },
  {
   "cell_type": "code",
   "execution_count": 193,
   "metadata": {},
   "outputs": [
    {
     "data": {
      "text/plain": [
       "False"
      ]
     },
     "execution_count": 193,
     "metadata": {},
     "output_type": "execute_result"
    }
   ],
   "source": [
    "class Solution:\n",
    "    def checkIfPangram(self, sentence: str) -> bool:\n",
    "        letters = ['a', 'b', 'c', 'd', 'e', 'f', 'g', 'h', 'i', 'j', 'k', 'l', 'm', 'n', 'o', 'p', 'q', 'r', 's', 't', 'u', 'v', 'w', 'x', 'y', 'z']\n",
    "        \n",
    "        res = []\n",
    "        ff = []\n",
    "        for c in set(sentence):\n",
    "            if c in letters:\n",
    "                res.append(True)\n",
    "            else:\n",
    "                ff.append(False)\n",
    "        \n",
    "        if len(res) < len(letters):\n",
    "            return False  \n",
    "        return True     \n",
    "\n",
    "\n",
    "sentence = \"jwtucoucmdfwxxqnxzkaxoglszmfrcvjoiunqqausaxxaaijyqdqgvdnqcaihwilqkpivenpnekioyqujrdrovqrlxovcucjqzjsxmllfgndfprctxvxwlzjtciqxgsxfwhmuzqvlksyuztoetyjugmswfjtawwaqmwyxmvo\"\n",
    "Solution().checkIfPangram(sentence)"
   ]
  },
  {
   "cell_type": "code",
   "execution_count": 197,
   "metadata": {},
   "outputs": [
    {
     "data": {
      "text/plain": [
       "2"
      ]
     },
     "execution_count": 197,
     "metadata": {},
     "output_type": "execute_result"
    }
   ],
   "source": [
    "class Solution:\n",
    "    def countDigits(self, num: int) -> int:\n",
    "        if num <= 9:\n",
    "            return 1\n",
    "        \n",
    "        res = [int(x) for x in str(num) if num % int(x)==0]\n",
    "        return len(res)\n",
    "\n",
    "\n",
    "num = 121\n",
    "Solution().countDigits(num)"
   ]
  },
  {
   "cell_type": "code",
   "execution_count": 207,
   "metadata": {},
   "outputs": [
    {
     "data": {
      "text/plain": [
       "True"
      ]
     },
     "execution_count": 207,
     "metadata": {},
     "output_type": "execute_result"
    }
   ],
   "source": [
    "class Solution:\n",
    "    def halvesAreAlike(self, s: str) -> bool:\n",
    "        vowels_list = ['a', 'e', 'i', 'o', 'u']\n",
    "\n",
    "        mid = len(s) // 2\n",
    "        \n",
    "        f_half = s[:mid]\n",
    "        s_half = s[mid:]\n",
    "        count = 0\n",
    "        count2 = 0\n",
    "\n",
    "        for i in range(len(f_half)):\n",
    "            if f_half[i].lower() in vowels_list:\n",
    "                count+=1\n",
    "\n",
    "        for i in range(len(s_half)):\n",
    "            if s_half[i].lower() in vowels_list:\n",
    "                count2+=1\n",
    "\n",
    "        return count == count2\n",
    "\n",
    "s =\"Uo\"\n",
    "Solution().halvesAreAlike(s)"
   ]
  },
  {
   "cell_type": "code",
   "execution_count": null,
   "metadata": {},
   "outputs": [
    {
     "data": {
      "text/plain": [
       "2"
      ]
     },
     "execution_count": 210,
     "metadata": {},
     "output_type": "execute_result"
    }
   ],
   "source": [
    "class Solution:\n",
    "    def prefixCount(self, words: List[str], pref: str) -> int:\n",
    "        pref_len = len(pref)\n",
    "        count = 0\n",
    "\n",
    "        for word in words:\n",
    "            if word[:pref_len] == pref:\n",
    "                count+=1\n",
    "        return count\n",
    "\n",
    "\n",
    "words = [\"pay\",\"attention\",\"practice\",\"attend\"]\n",
    "pref = \"at\"\n",
    "Solution().prefixCount(words, pref)"
   ]
  },
  {
   "cell_type": "code",
   "execution_count": null,
   "metadata": {},
   "outputs": [
    {
     "data": {
      "text/plain": [
       "False"
      ]
     },
     "execution_count": 225,
     "metadata": {},
     "output_type": "execute_result"
    }
   ],
   "source": [
    "class Solution:\n",
    "    def areOccurrencesEqual(self, s: str) -> bool:\n",
    "        \n",
    "        freq = {}\n",
    "\n",
    "        for c in s:\n",
    "            freq[c] = freq.get(c, 0)+1\n",
    "\n",
    "        res = [val for key, val in freq.items()]\n",
    "        \n",
    "        for i in range(len(res)):\n",
    "            for j in range(i+1 ,len(res)):\n",
    "                if res[i] != res[j]:\n",
    "                    return False\n",
    "        return True\n",
    "\n",
    "\n",
    "s = \"abcdefghijklmnopqrstuvwxyzz\"\n",
    "Solution().areOccurrencesEqual(s)"
   ]
  },
  {
   "cell_type": "code",
   "execution_count": 256,
   "metadata": {},
   "outputs": [
    {
     "data": {
      "text/plain": [
       "16"
      ]
     },
     "execution_count": 256,
     "metadata": {},
     "output_type": "execute_result"
    }
   ],
   "source": [
    "class Solution:\n",
    "    def percentageLetter(self, s: str, letter: str) -> int:\n",
    "        n = len(s)\n",
    "        count = 0\n",
    "        \n",
    "        for c in s:\n",
    "            if c == letter:\n",
    "                count+=1\n",
    "        return int(count / n * 100)\n",
    "\n",
    "\n",
    "s = \"sgawtb\"\n",
    "letter = \"s\"\n",
    "Solution().percentageLetter(s, letter)"
   ]
  },
  {
   "cell_type": "code",
   "execution_count": 260,
   "metadata": {},
   "outputs": [
    {
     "data": {
      "text/plain": [
       "2"
      ]
     },
     "execution_count": 260,
     "metadata": {},
     "output_type": "execute_result"
    }
   ],
   "source": [
    "class Solution:\n",
    "    def vowelStrings(self, words: List[str], left: int, right: int) -> int:\n",
    "        vowels_list = ['a', 'e', 'i', 'o', 'u']\n",
    "        \n",
    "        count = 0\n",
    "        \n",
    "        for i in range(left, right+1):\n",
    "            if words[i][0] in vowels_list and words[i][-1] in vowels_list:\n",
    "                count+=1\n",
    "            \n",
    "        return count\n",
    "\n",
    "words = [\"are\",\"amy\",\"u\"]\n",
    "left = 0\n",
    "right = 2\n",
    "Solution().vowelStrings(words, left, right)"
   ]
  },
  {
   "cell_type": "code",
   "execution_count": 272,
   "metadata": {},
   "outputs": [
    {
     "data": {
      "text/plain": [
       "4"
      ]
     },
     "execution_count": 272,
     "metadata": {},
     "output_type": "execute_result"
    }
   ],
   "source": [
    "class Solution:\n",
    "    def numOfPairs(self, nums: List[str], target: str) -> int:\n",
    "        count=0\n",
    "        for i in range(len(nums)):\n",
    "            for j in range(len(nums)):\n",
    "                if i!=j and nums[i]+nums[j] == target:\n",
    "                    count+=1\n",
    "        return count\n",
    "\n",
    "\n",
    "nums = [\"777\",\"7\",\"77\",\"77\"]\n",
    "target = \"7777\"\n",
    "Solution().numOfPairs(nums, target)"
   ]
  },
  {
   "cell_type": "code",
   "execution_count": null,
   "metadata": {},
   "outputs": [
    {
     "data": {
      "text/plain": [
       "False"
      ]
     },
     "execution_count": 285,
     "metadata": {},
     "output_type": "execute_result"
    }
   ],
   "source": [
    "class Solution:\n",
    "    def checkString(self, s: str) -> bool:\n",
    "        \n",
    "        for i in range(len(s) -1):\n",
    "            if s[i] == 'a' and s[i+1] == 'b':\n",
    "                return False\n",
    "        return True\n",
    "\n",
    "s = \"aaabbb\"\n",
    "Solution().checkString(s)"
   ]
  },
  {
   "cell_type": "code",
   "execution_count": 312,
   "metadata": {},
   "outputs": [
    {
     "data": {
      "text/plain": [
       "False"
      ]
     },
     "execution_count": 312,
     "metadata": {},
     "output_type": "execute_result"
    }
   ],
   "source": [
    "class Solution:\n",
    "    def areNumbersAscending(self, s: str) -> bool:\n",
    "        ss = s.split()\n",
    "        numbers = ['0','1', '2','3','4','5','6','7','8','9']\n",
    "        res = []\n",
    "\n",
    "\n",
    "        for word in ss:\n",
    "            for c in word:\n",
    "                if c in numbers:\n",
    "                    res.append(int(word))\n",
    "                    break\n",
    "    \n",
    "        return self.strictly_increasing(res)\n",
    "    \n",
    "    def strictly_increasing(self, nums:List[int]):\n",
    "\n",
    "        for i in range(len(nums)-1):\n",
    "            if nums[i+1] <= nums[i]:\n",
    "                return False\n",
    "        return True\n",
    "\n",
    "s = \"sunset is at 7 51 pm overnight lows will be in the low 50 and 60 s\"\n",
    "Solution().areNumbersAscending(s)"
   ]
  },
  {
   "cell_type": "code",
   "execution_count": null,
   "metadata": {},
   "outputs": [
    {
     "data": {
      "text/plain": [
       "4"
      ]
     },
     "execution_count": 323,
     "metadata": {},
     "output_type": "execute_result"
    }
   ],
   "source": [
    "class Solution:\n",
    "     def search(self, nums: List[int], target: int) -> int:\n",
    "         \n",
    "        l, r = 0, len(nums) -1\n",
    "\n",
    "        while l <= r:\n",
    "            mid = (l+r)//2\n",
    "\n",
    "            if nums[mid] == target:\n",
    "                return mid\n",
    "            \n",
    "            elif nums[mid] < target:\n",
    "                l = mid+1\n",
    "            else:\n",
    "                r = mid-1\n",
    "        return -1     \n",
    "\n",
    "nums = [-1,0,3,5,9,12]\n",
    "target = 9\n",
    "Solution().search(nums, target)"
   ]
  },
  {
   "cell_type": "code",
   "execution_count": 347,
   "metadata": {},
   "outputs": [
    {
     "data": {
      "text/plain": [
       "3"
      ]
     },
     "execution_count": 347,
     "metadata": {},
     "output_type": "execute_result"
    }
   ],
   "source": [
    "class Solution:\n",
    "    def countPrefixes(self, words: List[str], s: str) -> int:\n",
    "\n",
    "        count = 0\n",
    "\n",
    "        for word in words:\n",
    "            if s[:len(word)] == word:\n",
    "                count+=1\n",
    "        return count\n",
    "            \n",
    "        \n",
    "words = [\"a\",\"b\",\"c\",\"ab\",\"bc\",\"abc\"]\n",
    "s = \"abc\"\n",
    "Solution().countPrefixes(words, s)"
   ]
  },
  {
   "cell_type": "code",
   "execution_count": 349,
   "metadata": {},
   "outputs": [
    {
     "data": {
      "text/plain": [
       "3"
      ]
     },
     "execution_count": 349,
     "metadata": {},
     "output_type": "execute_result"
    }
   ],
   "source": [
    "class Solution:\n",
    "    def countPrefixes(self, words: List[str], s: str) -> int:\n",
    "        pref = []\n",
    "        prefixes = set([])\n",
    "        for x in s:\n",
    "            pref.append(x)\n",
    "            prefixes.add(\"\".join(pref))\n",
    "        c = 0\n",
    "        for w in words:\n",
    "            if w in prefixes:\n",
    "                c += 1\n",
    "        return c\n",
    "\n",
    "words = [\"a\",\"b\",\"c\",\"ab\",\"bc\",\"abc\"]\n",
    "s = \"abc\"\n",
    "Solution().countPrefixes(words, s)"
   ]
  },
  {
   "cell_type": "code",
   "execution_count": null,
   "metadata": {},
   "outputs": [
    {
     "data": {
      "text/plain": [
       "4"
      ]
     },
     "execution_count": 369,
     "metadata": {},
     "output_type": "execute_result"
    }
   ],
   "source": [
    "class Solution:\n",
    "    def isPrefixOfWord(self, sentence: str, searchWord: str) -> int:\n",
    "        ss = sentence.split()\n",
    "        for i in range(len(ss)):\n",
    "            if ss[i][:len(searchWord)] == searchWord:\n",
    "                return i+1 \n",
    "        return -1\n",
    "        \n",
    "\n",
    "sentence = \"i love eating burger\"\n",
    "searchWord = \"burg\"\n",
    "Solution().isPrefixOfWord(sentence, searchWord)"
   ]
  },
  {
   "cell_type": "code",
   "execution_count": 383,
   "metadata": {},
   "outputs": [
    {
     "data": {
      "text/plain": [
       "'dcbaefd'"
      ]
     },
     "execution_count": 383,
     "metadata": {},
     "output_type": "execute_result"
    }
   ],
   "source": [
    "class Solution:\n",
    "    def reversePrefix(self, word: str, ch: str) -> str:\n",
    "        index = 0\n",
    "        w = list(word)\n",
    "        for i in range(len(word)):\n",
    "            if word[i] == ch:\n",
    "                index = i\n",
    "                break\n",
    "        \n",
    "        if index == 0:\n",
    "            return word\n",
    "        \n",
    "        fr_half = word[:index+1]\n",
    "        sc_half = word[index+1:]\n",
    "        \n",
    "        return \"\".join(reversed(fr_half))+sc_half\n",
    "\n",
    "\n",
    "\n",
    "word = \"abcdefd\"\n",
    "ch = \"d\"\n",
    "Solution().reversePrefix(word, ch)"
   ]
  },
  {
   "cell_type": "code",
   "execution_count": null,
   "metadata": {},
   "outputs": [
    {
     "data": {
      "text/plain": [
       "'leetcode'"
      ]
     },
     "execution_count": 421,
     "metadata": {},
     "output_type": "execute_result"
    }
   ],
   "source": [
    "class Solution:\n",
    "    def restoreString(self, s: str, indices: List[int]) -> str:\n",
    "        ss = list(s)\n",
    "\n",
    "    \n",
    "        for i in range(len(ss)):\n",
    "            ss[indices[i]] = s[i]\n",
    "        return \"\".join(ss)\n",
    "        \n",
    "\n",
    "s = \"codeleet\"\n",
    "indices = [4,5,6,7,0,2,1,3]\n",
    "Solution().restoreString(s, indices)"
   ]
  },
  {
   "cell_type": "code",
   "execution_count": null,
   "metadata": {},
   "outputs": [
    {
     "data": {
      "text/plain": [
       "True"
      ]
     },
     "execution_count": 437,
     "metadata": {},
     "output_type": "execute_result"
    }
   ],
   "source": [
    "class Solution:\n",
    "    def isBalanced(self, num: str) -> bool:\n",
    "        even_nums = 0\n",
    "        odd_nums = 0\n",
    "        \n",
    "        for i in range(len(num)):\n",
    "            if i % 2 == 0:\n",
    "                even_nums+=int(num[i])\n",
    "            else:\n",
    "                odd_nums+=int(num[i])\n",
    "        return even_nums==odd_nums\n",
    "\n",
    "num = \"24123\"\n",
    "Solution().isBalanced(num)"
   ]
  },
  {
   "cell_type": "code",
   "execution_count": null,
   "metadata": {},
   "outputs": [
    {
     "data": {
      "text/plain": [
       "[5, 6, 7, 1, 2, 3, 4]"
      ]
     },
     "execution_count": 443,
     "metadata": {},
     "output_type": "execute_result"
    }
   ],
   "source": [
    "class Solution:\n",
    "    def rotate(self, nums: List[int], k: int) -> None:\n",
    "        \"\"\"\n",
    "        Do not return anything, modify nums in-place instead.\n",
    "        \"\"\"\n",
    "        k = k% len(nums)\n",
    "\n",
    "        for _ in range(k):\n",
    "            p = nums.pop()\n",
    "            nums.insert(0,p)\n",
    "        \n",
    "nums = [1,2,3,4,5,6,7]\n",
    "k = 3\n",
    "Solution().rotate(nums, k)\n",
    "nums"
   ]
  },
  {
   "cell_type": "code",
   "execution_count": null,
   "metadata": {},
   "outputs": [
    {
     "data": {
      "text/plain": [
       "False"
      ]
     },
     "execution_count": 465,
     "metadata": {},
     "output_type": "execute_result"
    }
   ],
   "source": [
    "class Solution:\n",
    "    def rotateString(self, s: str, goal: str) -> bool:\n",
    "        double_s = s+s\n",
    "\n",
    "        substrings = self.substrings(double_s)\n",
    "\n",
    "        for sub in substrings:\n",
    "            if sub == goal:\n",
    "                return True\n",
    "        return False     \n",
    "    def substrings(self, s):\n",
    "        res = []\n",
    "        for i in range(len(s)):\n",
    "            for j in range(i, len(s)):\n",
    "                res.append(s[i:j+1])\n",
    "        return res\n",
    "\n",
    "s = \"abcde\"\n",
    "goal = \"abced\"\n",
    "Solution().rotateString(s, goal)"
   ]
  },
  {
   "cell_type": "code",
   "execution_count": 473,
   "metadata": {},
   "outputs": [
    {
     "data": {
      "text/plain": [
       "'1[.]1[.]1[.]1'"
      ]
     },
     "execution_count": 473,
     "metadata": {},
     "output_type": "execute_result"
    }
   ],
   "source": [
    "class Solution:\n",
    "    def defangIPaddr(self, address: str) -> str:\n",
    "        address = list(address)\n",
    "        \n",
    "        for i in range(len(address)):\n",
    "            if address[i] == '.':\n",
    "                address[i] = '[.]'\n",
    "        return \"\".join(address)\n",
    "\n",
    "address = \"1.1.1.1\"\n",
    "Solution().defangIPaddr(address)"
   ]
  },
  {
   "cell_type": "code",
   "execution_count": null,
   "metadata": {},
   "outputs": [
    {
     "data": {
      "text/plain": [
       "0"
      ]
     },
     "execution_count": 475,
     "metadata": {},
     "output_type": "execute_result"
    }
   ],
   "source": [
    "class Solution:\n",
    "    def numJewelsInStones(self, jewels: str, stones: str) -> int:\n",
    "        count = 0\n",
    "        for s in stones:\n",
    "            if s in jewels:\n",
    "                count+=1\n",
    "        return count\n",
    "\n",
    "jewels = \"aA\"\n",
    "stones = \"aAAbbbb\"\n",
    "Solution().numJewelsInStones(jewels, stones)"
   ]
  },
  {
   "cell_type": "code",
   "execution_count": 497,
   "metadata": {},
   "outputs": [
    {
     "data": {
      "text/plain": [
       "'lovely'"
      ]
     },
     "execution_count": 497,
     "metadata": {},
     "output_type": "execute_result"
    }
   ],
   "source": [
    "class Solution:\n",
    "    def toLowerCase(self, s: str) -> str:\n",
    "\n",
    "        res = \"\"\n",
    "\n",
    "        for c in s:\n",
    "            if c >= 'A' and c <= 'Z':\n",
    "                res += chr(ord(c)+32)\n",
    "            else:\n",
    "                res+=c\n",
    "        return res\n",
    "                \n",
    "    \n",
    "s = \"LOVELY\"\n",
    "Solution().toLowerCase(s)"
   ]
  },
  {
   "cell_type": "code",
   "execution_count": 499,
   "metadata": {},
   "outputs": [
    {
     "data": {
      "text/plain": [
       "['is2', 'sentence4', 'This1', 'a3']"
      ]
     },
     "execution_count": 499,
     "metadata": {},
     "output_type": "execute_result"
    }
   ],
   "source": [
    "\"is2 sentence4 This1 a3\".split()"
   ]
  },
  {
   "cell_type": "code",
   "execution_count": 528,
   "metadata": {},
   "outputs": [
    {
     "data": {
      "text/plain": [
       "'This is a sentence'"
      ]
     },
     "execution_count": 528,
     "metadata": {},
     "output_type": "execute_result"
    }
   ],
   "source": [
    "class Solution:\n",
    "    def sortSentence(self, s: str) -> str:\n",
    "        s_arr = s.split()\n",
    "        keys = []\n",
    "\n",
    "        for s in s_arr:\n",
    "            keys.append(int(s[-1]))\n",
    "        \n",
    "        s_key = dict(zip(s_arr, keys))\n",
    "        result =  [key for key, val in sorted(s_key.items(), key=lambda x: x[1])]\n",
    "        \n",
    "        final_str = []\n",
    "\n",
    "        for s in result:\n",
    "            final_str.append(s[:-1])\n",
    "        \n",
    "        return \" \".join(final_str)\n",
    "\n",
    "\n",
    "s =\"is2 sentence4 This1 a3\"\n",
    "Solution().sortSentence(s)"
   ]
  },
  {
   "cell_type": "code",
   "execution_count": 533,
   "metadata": {},
   "outputs": [
    {
     "data": {
      "text/plain": [
       "'aaab'"
      ]
     },
     "execution_count": 533,
     "metadata": {},
     "output_type": "execute_result"
    }
   ],
   "source": [
    "class Solution:\n",
    "    def generateTheString(self, n: int) -> str:\n",
    "        a = 'a'\n",
    "        b = 'b'\n",
    "\n",
    "        if n % 2 != 0:\n",
    "            return a*n\n",
    "        return a*(n-1)+b\n",
    "\n",
    "\n",
    "n = 4\n",
    "Solution().generateTheString(n)"
   ]
  },
  {
   "cell_type": "code",
   "execution_count": null,
   "metadata": {},
   "outputs": [
    {
     "data": {
      "text/plain": [
       "True"
      ]
     },
     "execution_count": 562,
     "metadata": {},
     "output_type": "execute_result"
    }
   ],
   "source": [
    "class Solution:\n",
    "    def backspaceCompare(self, s: str, t: str) -> bool:\n",
    "        \n",
    "        return self.checking(s) == self.checking(t)\n",
    "    \n",
    "    def checking(self, s):\n",
    "        result = []\n",
    "\n",
    "        for c in s:\n",
    "            if c == '#':\n",
    "                if result:\n",
    "                    result.pop()\n",
    "            else:\n",
    "                result.append(c)\n",
    "        return result\n",
    "        \n",
    "\n",
    "s = \"ab#c\"\n",
    "t = \"ad#c\"\n",
    "Solution().backspaceCompare(s, t)"
   ]
  },
  {
   "cell_type": "code",
   "execution_count": 41,
   "metadata": {},
   "outputs": [
    {
     "data": {
      "text/plain": [
       "['banana']"
      ]
     },
     "execution_count": 41,
     "metadata": {},
     "output_type": "execute_result"
    }
   ],
   "source": [
    "class Solution:\n",
    "    def uncommonFromSentences(self, s1: str, s2: str) -> List[str]:\n",
    "\n",
    "        res = s1.split() + s2.split()\n",
    "\n",
    "        freq1  ={}\n",
    "      \n",
    "        \n",
    "        for word in res:\n",
    "            freq1[word] = freq1.get(word, 0) +1\n",
    "\n",
    "        return [key for key, val in freq1.items() if val == 1]\n",
    "        \n",
    "        \n",
    "\n",
    "s1 = \"apple apple\"\n",
    "s2 = \"banana\"\n",
    "# s1 = \"this apple is sweet\"\n",
    "# s2 = \"this apple is sour\"\n",
    "Solution().uncommonFromSentences(s1, s2)"
   ]
  },
  {
   "cell_type": "code",
   "execution_count": 55,
   "metadata": {},
   "outputs": [
    {
     "data": {
      "text/plain": [
       "6"
      ]
     },
     "execution_count": 55,
     "metadata": {},
     "output_type": "execute_result"
    }
   ],
   "source": [
    "class Solution:\n",
    "    def mostWordsFound(self, sentences: List[str]) -> int:\n",
    "        res = []\n",
    "        for sentence in sentences:\n",
    "            count = 0\n",
    "            for word in sentence.split():\n",
    "                count+=1\n",
    "            res.append(count)\n",
    "        return max(res)\n",
    "\n",
    "\n",
    "\n",
    "sentences = [\"alice and bob love leetcode\", \"i think so too\", \"this is great thanks very much\"]\n",
    "Solution().mostWordsFound(sentences)"
   ]
  },
  {
   "cell_type": "code",
   "execution_count": 110,
   "metadata": {},
   "outputs": [
    {
     "data": {
      "text/plain": [
       "'cbaaaaaaa'"
      ]
     },
     "execution_count": 110,
     "metadata": {},
     "output_type": "execute_result"
    }
   ],
   "source": [
    "class Solution:\n",
    "    def buddyStrings(self, s: str, goal: str) -> bool:\n",
    "        s = list(s)\n",
    "        \n",
    "        for i in range(len(s)):\n",
    "            for j in range(i+1, len(s)):\n",
    "                s[i],s[j] = s[j], s[i]\n",
    "        \n",
    "        s = \"\".join(s)\n",
    "        return s\n",
    "        \n",
    "        \n",
    "         \n",
    "s = \"aaaaaaabc\"\n",
    "goal = \"ba\"\n",
    "Solution().buddyStrings(s, goal)"
   ]
  },
  {
   "cell_type": "code",
   "execution_count": 162,
   "metadata": {},
   "outputs": [
    {
     "data": {
      "text/plain": [
       "''"
      ]
     },
     "execution_count": 162,
     "metadata": {},
     "output_type": "execute_result"
    }
   ],
   "source": [
    "class Solution:\n",
    "    def greatestLetter(self, s: str) -> str:\n",
    "\n",
    "        word = list(set(s))\n",
    "        res = []\n",
    "        rs = []\n",
    "\n",
    "        for c in word:\n",
    "            if c >= 'A' and c <= 'Z':\n",
    "                res.append(c)\n",
    "            elif c >= 'a' and c <= 'z':\n",
    "                rs.append(c.upper())\n",
    "\n",
    "        rrr = []\n",
    "        for r in res:\n",
    "            if r in rs:\n",
    "                rrr.append(r)\n",
    "        \n",
    "        if rrr:\n",
    "            return max(rrr)\n",
    "        return \"\"\n",
    "        \n",
    "        \n",
    "s = \"AbCdEfGhIjK\"\n",
    "Solution().greatestLetter(s)"
   ]
  },
  {
   "cell_type": "code",
   "execution_count": 169,
   "metadata": {},
   "outputs": [
    {
     "data": {
      "text/plain": [
       "1"
      ]
     },
     "execution_count": 169,
     "metadata": {},
     "output_type": "execute_result"
    }
   ],
   "source": [
    "class Solution:\n",
    "    def numberOfSpecialChars(self, word: str) -> int:\n",
    "        \n",
    "        uppers = set()\n",
    "        lowers = set()\n",
    "\n",
    "        for c in word:\n",
    "            if c >= 'A' and c <= 'Z':\n",
    "                uppers.add(c)\n",
    "            elif c >= 'a' and c <= 'z':\n",
    "                lowers.add(c.upper())\n",
    "        res = 0\n",
    "        for c in uppers:\n",
    "            if c in lowers:\n",
    "                res+=1\n",
    "        return res\n",
    "\n",
    "\n",
    "word = \"abBCab\"\n",
    "Solution().numberOfSpecialChars(word)"
   ]
  },
  {
   "cell_type": "code",
   "execution_count": 187,
   "metadata": {},
   "outputs": [
    {
     "data": {
      "text/plain": [
       "'First Letter of Each Word'"
      ]
     },
     "execution_count": 187,
     "metadata": {},
     "output_type": "execute_result"
    }
   ],
   "source": [
    "class Solution:\n",
    "    def capitalizeTitle(self, title: str) -> str:\n",
    "        titles = title.split(\" \")\n",
    "\n",
    "        for i in range(len(titles)):\n",
    "            if len(titles[i]) <= 2:\n",
    "                titles[i] = titles[i].lower()\n",
    "            else:\n",
    "                titles[i] = titles[i].capitalize()\n",
    "        return \" \".join(titles)\n",
    "\n",
    "\n",
    "title = \"First leTTeR of EACH Word\"\n",
    "Solution().capitalizeTitle(title)"
   ]
  },
  {
   "cell_type": "code",
   "execution_count": 220,
   "metadata": {},
   "outputs": [
    {
     "data": {
      "text/plain": [
       "['abba', 'cd']"
      ]
     },
     "execution_count": 220,
     "metadata": {},
     "output_type": "execute_result"
    }
   ],
   "source": [
    "class Solution:\n",
    "    def removeAnagrams(self, words: List[str]) -> List[str]:\n",
    "        indices = []\n",
    "        for i in range(1,len(words)):\n",
    "            if Counter(words[i]) == Counter(words[i-1]):\n",
    "                indices.append(i)\n",
    "        \n",
    "        indices = list(set(indices))\n",
    "       \n",
    "        return [word for i, word in enumerate(words) if i not in indices]\n",
    "        \n",
    "\n",
    "words = [\"abba\",\"baba\",\"bbaa\",\"cd\",\"cd\"]\n",
    "Solution().removeAnagrams(words)"
   ]
  },
  {
   "cell_type": "code",
   "execution_count": 252,
   "metadata": {},
   "outputs": [
    {
     "data": {
      "text/plain": [
       "2"
      ]
     },
     "execution_count": 252,
     "metadata": {},
     "output_type": "execute_result"
    }
   ],
   "source": [
    "class Solution:\n",
    "    def firstUniqChar(self, s: str) -> int:\n",
    "        \n",
    "        freq =  [key for key, val in Counter(s).items() if val ==1]\n",
    "\n",
    "        if not freq:\n",
    "            return -1\n",
    "        \n",
    "        for i in range(len(s)):\n",
    "            if s[i] == freq[0]:\n",
    "                return i\n",
    "        return -1\n",
    "\n",
    "\n",
    "\n",
    "s = \"loveleetcode\"\n",
    "Solution().firstUniqChar(s)"
   ]
  },
  {
   "cell_type": "code",
   "execution_count": 257,
   "metadata": {},
   "outputs": [
    {
     "data": {
      "text/plain": [
       "'eetr'"
      ]
     },
     "execution_count": 257,
     "metadata": {},
     "output_type": "execute_result"
    }
   ],
   "source": [
    "class Solution:\n",
    "    def frequencySort(self, s: str) -> str:\n",
    "        freq = Counter(s)\n",
    "\n",
    "        return \"\".join([key*val for key, val in sorted(freq.items(), key=lambda x: x[1], reverse=True)])\n",
    "\n",
    "\n",
    "s = \"tree\"\n",
    "Solution().frequencySort(s)"
   ]
  },
  {
   "cell_type": "code",
   "execution_count": 287,
   "metadata": {},
   "outputs": [
    {
     "data": {
      "text/plain": [
       "'bacdfeg'"
      ]
     },
     "execution_count": 287,
     "metadata": {},
     "output_type": "execute_result"
    }
   ],
   "source": [
    "class Solution:\n",
    "    def reverseStr(self, s: str, k: int) -> str:\n",
    "        \n",
    "        ss = list(s)\n",
    "\n",
    "        for i in range(0,len(ss), 2*k):\n",
    "            ss[i:i+k] = ss[i:i+k][::-1]\n",
    "        return \"\".join(ss)\n",
    "\n",
    "\n",
    "s = \"abcdefg\"\n",
    "k = 2\n",
    "Solution().reverseStr(s,k)"
   ]
  },
  {
   "cell_type": "code",
   "execution_count": 305,
   "metadata": {},
   "outputs": [
    {
     "data": {
      "text/plain": [
       "'ponter'"
      ]
     },
     "execution_count": 305,
     "metadata": {},
     "output_type": "execute_result"
    }
   ],
   "source": [
    "class Solution:\n",
    "    def finalString(self, s: str) -> str:\n",
    "        ss = list(s)\n",
    "        \n",
    "        i= 0\n",
    "\n",
    "        while i < len(ss):\n",
    "            if ss[i] == 'i':\n",
    "                ss[:i] = ss[:i][::-1]\n",
    "                ss.remove(ss[i])\n",
    "            else:\n",
    "                i+=1\n",
    "        return \"\".join(ss)\n",
    "\n",
    "s = \"poiinter\"\n",
    "Solution().finalString(s)"
   ]
  },
  {
   "cell_type": "code",
   "execution_count": 308,
   "metadata": {},
   "outputs": [
    {
     "data": {
      "text/plain": [
       "\"s'teL ekat edoCteeL tsetnoc\""
      ]
     },
     "execution_count": 308,
     "metadata": {},
     "output_type": "execute_result"
    }
   ],
   "source": [
    "class Solution:\n",
    "    def reverseWords(self, s: str) -> str:\n",
    "        \n",
    "        ss = s.split()\n",
    "        res = []\n",
    "        for word in ss:\n",
    "            res.append(word[::-1])\n",
    "        return \" \".join(res)\n",
    "\n",
    "\n",
    "\n",
    "s = \"Let's take LeetCode contest\"\n",
    "Solution().reverseWords(s)"
   ]
  },
  {
   "cell_type": "code",
   "execution_count": 319,
   "metadata": {},
   "outputs": [
    {
     "data": {
      "text/plain": [
       "'!TQe-setd1oncg=-tLee'"
      ]
     },
     "execution_count": 319,
     "metadata": {},
     "output_type": "execute_result"
    }
   ],
   "source": [
    "class Solution:\n",
    "    def reverseOnlyLetters(self, s: str) -> str:\n",
    "        letters = ['a', 'b', 'c', 'd', 'e', 'f', 'g', 'h', 'i', 'j', 'k', 'l', 'm', 'n', 'o', 'p', 'q', 'r', 's', 't', 'u', 'v', 'w', 'x', 'y', 'z']\n",
    "        letter_upper = [x.upper() for x in letters]\n",
    "        ss = list(s)\n",
    "        for i in range(len(list(ss))):\n",
    "            if ss[i] not in letters or ss[i] not in letter_upper:\n",
    "                ss[i::] = ss[i::][::-1]\n",
    "        return \"\".join(ss)\n",
    "\n",
    "        \n",
    "s = \"Test1ng-Leet=code-Q!\"\n",
    "Solution().reverseOnlyLetters(s)"
   ]
  },
  {
   "cell_type": "code",
   "execution_count": null,
   "metadata": {},
   "outputs": [
    {
     "data": {
      "text/plain": [
       "False"
      ]
     },
     "execution_count": 348,
     "metadata": {},
     "output_type": "execute_result"
    }
   ],
   "source": [
    "class Solution:\n",
    "    def canConstruct(self, ransomNote: str, magazine: str) -> bool:\n",
    "      \n",
    "        count = {}\n",
    "\n",
    "        for c in magazine:\n",
    "            count[c] = count.get(c, 0)+1\n",
    "        \n",
    "        for c in ransomNote:\n",
    "            if c not in count or count[c] == 0:\n",
    "                return False\n",
    "            else:\n",
    "                count[c] -=1\n",
    "        return True\n",
    "    \n",
    "      \n",
    "ransomNote = \"aa\"\n",
    "magazine = \"ab\"\n",
    "Solution().canConstruct(ransomNote, magazine)"
   ]
  },
  {
   "cell_type": "code",
   "execution_count": null,
   "metadata": {},
   "outputs": [
    {
     "data": {
      "text/plain": [
       "6"
      ]
     },
     "execution_count": 376,
     "metadata": {},
     "output_type": "execute_result"
    }
   ],
   "source": [
    "class Solution:\n",
    "    def countCharacters(self, words: List[str], chars: str) -> int:\n",
    "\n",
    "        freq = Counter(chars)\n",
    "        total_length = 0\n",
    "        \n",
    "        for word in words:\n",
    "            \n",
    "            freq_temp = freq.copy()\n",
    "            found = True\n",
    "\n",
    "            for c in word:\n",
    "                if c not in freq_temp or freq_temp[c] == 0:\n",
    "                    found = False\n",
    "                    break\n",
    "                freq_temp[c] -=1\n",
    "            \n",
    "            if found:\n",
    "                total_length += len(word)\n",
    "        return total_length\n",
    "\n",
    "# words = [\"dyiclysmffuhibgfvapygkorkqllqlvokosagyelotobicwcmebnpznjbirzrzsrtzjxhsfpiwyfhzyonmuabtlwin\",\"ndqeyhhcquplmznwslewjzuyfgklssvkqxmqjpwhrshycmvrb\",\"ulrrbpspyudncdlbkxkrqpivfftrggemkpyjl\",\"boygirdlggnh\",\"xmqohbyqwagkjzpyawsydmdaattthmuvjbzwpyopyafphx\",\"nulvimegcsiwvhwuiyednoxpugfeimnnyeoczuzxgxbqjvegcxeqnjbwnbvowastqhojepisusvsidhqmszbrnynkyop\",\"hiefuovybkpgzygprmndrkyspoiyapdwkxebgsmodhzpx\",\"juldqdzeskpffaoqcyyxiqqowsalqumddcufhouhrskozhlmobiwzxnhdkidr\",\"lnnvsdcrvzfmrvurucrzlfyigcycffpiuoo\",\"oxgaskztzroxuntiwlfyufddl\",\"tfspedteabxatkaypitjfkhkkigdwdkctqbczcugripkgcyfezpuklfqfcsccboarbfbjfrkxp\",\"qnagrpfzlyrouolqquytwnwnsqnmuzphne\",\"eeilfdaookieawrrbvtnqfzcricvhpiv\",\"sisvsjzyrbdsjcwwygdnxcjhzhsxhpceqz\",\"yhouqhjevqxtecomahbwoptzlkyvjexhzcbccusbjjdgcfzlkoqwiwue\",\"hwxxighzvceaplsycajkhynkhzkwkouszwaiuzqcleyflqrxgjsvlegvupzqijbornbfwpefhxekgpuvgiyeudhncv\",\"cpwcjwgbcquirnsazumgjjcltitmeyfaudbnbqhflvecjsupjmgwfbjo\",\"teyygdmmyadppuopvqdodaczob\",\"qaeowuwqsqffvibrtxnjnzvzuuonrkwpysyxvkijemmpdmtnqxwekbpfzs\",\"qqxpxpmemkldghbmbyxpkwgkaykaerhmwwjonrhcsubchs\"]\n",
    "# chars = \"usdruypficfbpfbivlrhutcgvyjenlxzeovdyjtgvvfdjzcmikjraspdfp\"\n",
    "words = [\"cat\",\"bt\",\"hat\",\"tree\"]\n",
    "chars = \"atach\"\n",
    "Solution().countCharacters(words, chars)"
   ]
  },
  {
   "cell_type": "code",
   "execution_count": 443,
   "metadata": {},
   "outputs": [
    {
     "data": {
      "text/plain": [
       "19"
      ]
     },
     "execution_count": 443,
     "metadata": {},
     "output_type": "execute_result"
    }
   ],
   "source": [
    "class Solution:\n",
    "    def differenceOfSums(self, n: int, m: int) -> int:\n",
    "        \n",
    "        som1 = 0\n",
    "        som2 = 0\n",
    "\n",
    "        for num in range(1,n+1):\n",
    "            if num % m != 0:\n",
    "                som1+=num\n",
    "            else:\n",
    "                som2+=num\n",
    "        return som1 - som2\n",
    "\n",
    "\n",
    "n = 10\n",
    "m = 3\n",
    "Solution().differenceOfSums(n,m)"
   ]
  },
  {
   "cell_type": "code",
   "execution_count": null,
   "metadata": {},
   "outputs": [
    {
     "data": {
      "text/plain": [
       "[2, 3, 5, 4, 1, 7]"
      ]
     },
     "execution_count": 457,
     "metadata": {},
     "output_type": "execute_result"
    }
   ],
   "source": [
    "class Solution:\n",
    "    def shuffle(self, nums: List[int], n: int) -> List[int]:\n",
    "\n",
    "        h1 = nums[:n]\n",
    "        h2 = nums[n:]\n",
    "        res = []\n",
    "        for i in range(len(h1)):\n",
    "            res.append(h1[i])\n",
    "            res.append(h2[i])\n",
    "        return res\n",
    "            \n",
    "\n",
    "nums = [2,5,1,3,4,7]\n",
    "n = 3\n",
    "Solution().shuffle(nums,n)"
   ]
  },
  {
   "cell_type": "code",
   "execution_count": 514,
   "metadata": {},
   "outputs": [
    {
     "data": {
      "text/plain": [
       "True"
      ]
     },
     "execution_count": 514,
     "metadata": {},
     "output_type": "execute_result"
    }
   ],
   "source": [
    "class Solution:\n",
    "    def isMonotonic(self, nums: List[int]) -> bool:\n",
    "\n",
    "        if self.isDecreasing(nums=nums) or self.isIncreasing(nums=nums):\n",
    "            return True\n",
    "        return False\n",
    "    \n",
    "    def isDecreasing(self, nums:List[int]):\n",
    "\n",
    "        for i in range(len(nums)-1):\n",
    "            if nums[i] < nums[i+1]:\n",
    "                return False\n",
    "        return True\n",
    "\n",
    "    def isIncreasing(self,nums: List[int]) -> bool:\n",
    "        \n",
    "        for i in range(len(nums)-1):\n",
    "            if nums[i] > nums[i+1]:\n",
    "                return False\n",
    "        return True\n",
    "\n",
    "nums = [6,5,4,4]\n",
    "Solution().isDecreasing(nums)"
   ]
  },
  {
   "cell_type": "code",
   "execution_count": 518,
   "metadata": {},
   "outputs": [
    {
     "data": {
      "text/plain": [
       "9"
      ]
     },
     "execution_count": 518,
     "metadata": {},
     "output_type": "execute_result"
    }
   ],
   "source": [
    "class Solution:\n",
    "    def averageValue(self, nums: List[int]) -> int:\n",
    "        res = []\n",
    "        for i in range(len(nums)):\n",
    "            if nums[i] % 2== 0  and nums[i] % 3 ==0:\n",
    "                res.append(nums[i])\n",
    "            \n",
    "        if not res:\n",
    "            return 0\n",
    "        return int(sum(res)/len(res))\n",
    "\n",
    "\n",
    "nums = [1,3,6,10,12,15]\n",
    "Solution().averageValue(nums)"
   ]
  },
  {
   "cell_type": "code",
   "execution_count": 15,
   "metadata": {},
   "outputs": [
    {
     "data": {
      "text/plain": [
       "2.65"
      ]
     },
     "execution_count": 15,
     "metadata": {},
     "output_type": "execute_result"
    }
   ],
   "source": [
    "class Solution:\n",
    "    def calculateTax(self, brackets: List[List[int]], income: int) -> float:\n",
    "        tax = 0\n",
    "        last_tax = 0\n",
    "\n",
    "        for b in brackets:\n",
    "            rate = b[1]/100\n",
    "            upper = min(b[0], income)\n",
    "            tax += (upper - last_tax) * rate\n",
    "            last_tax = upper\n",
    "        return tax\n",
    "            \n",
    "\n",
    "        \n",
    "\n",
    "brackets = [[3,50],[7,10],[12,25]]\n",
    "income = 10\n",
    "Solution().calculateTax(brackets, income)"
   ]
  },
  {
   "cell_type": "code",
   "execution_count": 34,
   "metadata": {},
   "outputs": [
    {
     "name": "stdout",
     "output_type": "stream",
     "text": [
      "1\n",
      "2\n",
      "1\n"
     ]
    },
    {
     "data": {
      "text/plain": [
       "8"
      ]
     },
     "execution_count": 34,
     "metadata": {},
     "output_type": "execute_result"
    }
   ],
   "source": [
    "class Solution:\n",
    "    def maximumUnits(self, boxTypes: List[List[int]], truckSize: int) -> int:\n",
    "        \n",
    "        boxTypes.sort(key=lambda x: x[1], reverse=True)\n",
    "        \n",
    "        total_price = 0\n",
    "\n",
    "        for box, unit in boxTypes:\n",
    "            box_to_take = min(truckSize, box)\n",
    "            print(box_to_take)\n",
    "            \n",
    "            total_price += box_to_take * unit\n",
    "\n",
    "            truckSize -= box_to_take\n",
    "        \n",
    "        return total_price\n",
    "        \n",
    "\n",
    "            \n",
    "\n",
    "boxTypes = [[1,3],[2,2],[3,1]]\n",
    "truckSize = 4\n",
    "Solution().maximumUnits(boxTypes, truckSize)"
   ]
  },
  {
   "cell_type": "code",
   "execution_count": 130,
   "metadata": {},
   "outputs": [
    {
     "data": {
      "text/plain": [
       "4"
      ]
     },
     "execution_count": 130,
     "metadata": {},
     "output_type": "execute_result"
    }
   ],
   "source": [
    "class Solution:\n",
    "    def maxIceCream(self, costs: List[int], coins: int) -> int:\n",
    "        \n",
    "        costs.sort()\n",
    "        count = 0\n",
    "\n",
    "        for p in costs:\n",
    "            if coins >= p:\n",
    "                count+=1\n",
    "                coins-=p\n",
    "            else:\n",
    "                break\n",
    "        return  count\n",
    "\n",
    "\n",
    "costs = [1,3,2,4,1]\n",
    "coins = 7\n",
    "Solution().maxIceCream(costs, coins)"
   ]
  },
  {
   "cell_type": "code",
   "execution_count": 72,
   "metadata": {},
   "outputs": [
    {
     "data": {
      "text/plain": [
       "13"
      ]
     },
     "execution_count": 72,
     "metadata": {},
     "output_type": "execute_result"
    }
   ],
   "source": [
    "class Solution:\n",
    "    def largestSumAfterKNegations(self, nums: List[int], k: int) -> int:\n",
    "        nums.sort()\n",
    "\n",
    "        for i in range(k):\n",
    "            min_val = min(nums)\n",
    "            index = nums.index(min_val)\n",
    "            nums[index] = -nums[index]\n",
    "        return sum(nums)\n",
    "\n",
    "\n",
    "nums = [2,-3,-1,5,-4]\n",
    "k = 2\n",
    "Solution().largestSumAfterKNegations(nums, k)"
   ]
  },
  {
   "cell_type": "code",
   "execution_count": 82,
   "metadata": {},
   "outputs": [
    {
     "data": {
      "text/plain": [
       "59"
      ]
     },
     "execution_count": 82,
     "metadata": {},
     "output_type": "execute_result"
    }
   ],
   "source": [
    "class Solution:\n",
    "    def splitNum(self, num: int) -> int:\n",
    "        digits = [int(x) for x in str(num)]\n",
    "        digits.sort()\n",
    "        n = \"\"\n",
    "        n2 = \"\"\n",
    "        for i in range(len(digits)):\n",
    "            if i % 2 ==0:\n",
    "                n+=str(digits[i])\n",
    "            else:\n",
    "                n2+=str(digits[i])\n",
    "        return int(n)+int(n2)\n",
    "\n",
    "num = 4325\n",
    "Solution().splitNum(num)"
   ]
  },
  {
   "cell_type": "code",
   "execution_count": 132,
   "metadata": {},
   "outputs": [
    {
     "data": {
      "text/plain": [
       "5"
      ]
     },
     "execution_count": 132,
     "metadata": {},
     "output_type": "execute_result"
    }
   ],
   "source": [
    "class Solution:\n",
    "    def minimumBoxes(self, apple: List[int], capacity: List[int]) -> int:\n",
    "\n",
    "        total_apples = sum(apple)\n",
    "\n",
    "        capacity.sort(reverse=True)\n",
    "\n",
    "        count = 0\n",
    "\n",
    "        for c in capacity:\n",
    "            if total_apples <=0:\n",
    "                break\n",
    "\n",
    "            count+=1\n",
    "            total_apples -=c\n",
    "        return count\n",
    "        \n",
    "apple = [9,8,8,2,3,1,6]\n",
    "capacity =[10,1,4,10,8,5]\n",
    "Solution().minimumBoxes(apple, capacity)"
   ]
  },
  {
   "cell_type": "code",
   "execution_count": null,
   "metadata": {},
   "outputs": [
    {
     "data": {
      "text/plain": [
       "5"
      ]
     },
     "execution_count": 137,
     "metadata": {},
     "output_type": "execute_result"
    }
   ],
   "source": [
    "class Solution:\n",
    "    def minimumBoxes(self, apple: List[int], capacity: List[int]) -> int:\n",
    "\n",
    "        total_apples = sum(apple)\n",
    "\n",
    "        capacity.sort(reverse=True)\n",
    "\n",
    "        count = 0\n",
    "\n",
    "        while capacity:\n",
    "\n",
    "            max_val = max(capacity)\n",
    "\n",
    "            if total_apples > 0:\n",
    "                count+=1\n",
    "                total_apples-=max_val\n",
    "            else:\n",
    "                break\n",
    "            capacity.remove(max_val)\n",
    "        \n",
    "        return count\n",
    "\n",
    "apple = [9,8,8,2,3,1,6]\n",
    "capacity =[10,1,4,10,8,5]\n",
    "Solution().minimumBoxes(apple, capacity)"
   ]
  },
  {
   "cell_type": "code",
   "execution_count": 167,
   "metadata": {},
   "outputs": [
    {
     "data": {
      "text/plain": [
       "4"
      ]
     },
     "execution_count": 167,
     "metadata": {},
     "output_type": "execute_result"
    }
   ],
   "source": [
    "class Solution:\n",
    "    def maxDistance(self, colors: List[int]) -> int:\n",
    "        l, r = 0, 1\n",
    "        count = 0\n",
    "\n",
    "        while r < len(colors):\n",
    "            if colors[l] != colors[r]:\n",
    "                count+=1\n",
    "                l = r\n",
    "                r+=1\n",
    "            else:\n",
    "                l = r\n",
    "                r+=1\n",
    "        return count\n",
    "          \n",
    "      \n",
    "colors = [1,8,3,8,3]\n",
    "Solution().maxDistance(colors)"
   ]
  },
  {
   "cell_type": "code",
   "execution_count": 175,
   "metadata": {},
   "outputs": [
    {
     "data": {
      "text/plain": [
       "4"
      ]
     },
     "execution_count": 175,
     "metadata": {},
     "output_type": "execute_result"
    }
   ],
   "source": [
    "class Solution:\n",
    "    def maximumDifference(self, nums: List[int]) -> int:\n",
    "        \n",
    "        res = []\n",
    "\n",
    "        for i in range(len(nums)):\n",
    "            for j in range(i+1,len(nums)):\n",
    "                if i < j and nums[i] < nums[j]:\n",
    "                    res.append(nums[j] - nums[i])\n",
    "        \n",
    "        if res:\n",
    "            return max(res)\n",
    "        return -1\n",
    "\n",
    "\n",
    "nums = [7,1,5,4]\n",
    "Solution().maximumDifference(nums)"
   ]
  },
  {
   "cell_type": "code",
   "execution_count": null,
   "metadata": {},
   "outputs": [
    {
     "data": {
      "text/plain": [
       "5"
      ]
     },
     "execution_count": 176,
     "metadata": {},
     "output_type": "execute_result"
    }
   ],
   "source": [
    "class Solution:\n",
    "    def maxProfit(self, prices: List[int]) -> int:\n",
    "        \n",
    "        l, r = 0, 1\n",
    "        max_profit = 0\n",
    "\n",
    "        while r < len(prices):\n",
    "            \n",
    "            if prices[l] < prices[r]:\n",
    "                profit = prices[r] - prices[l]\n",
    "                max_profit = max(max_profit,profit )\n",
    "            else:   \n",
    "                l+=1\n",
    "            r+=1\n",
    "        return max_profit\n",
    "\n",
    "prices = [7,1,5,3,6,4]\n",
    "Solution().maxProfit(prices)"
   ]
  },
  {
   "cell_type": "code",
   "execution_count": 179,
   "metadata": {},
   "outputs": [
    {
     "data": {
      "text/plain": [
       "4"
      ]
     },
     "execution_count": 179,
     "metadata": {},
     "output_type": "execute_result"
    }
   ],
   "source": [
    "class Solution:\n",
    "    def maxDistance(self, colors: List[int]) -> int:\n",
    "        l, r = 0, 1\n",
    "        count = 0\n",
    "\n",
    "        while r < len(colors):\n",
    "            \n",
    "            if colors[l] != colors[r]:\n",
    "                count+=1\n",
    "                l = r\n",
    "                r+=1\n",
    "            else:\n",
    "                l= r\n",
    "                r+=1\n",
    "        return count\n",
    "\n",
    "colors = [1,8,3,8,3]\n",
    "Solution().maxDistance(colors)"
   ]
  },
  {
   "cell_type": "code",
   "execution_count": 195,
   "metadata": {},
   "outputs": [
    {
     "data": {
      "text/plain": [
       "23"
      ]
     },
     "execution_count": 195,
     "metadata": {},
     "output_type": "execute_result"
    }
   ],
   "source": [
    "class Solution:\n",
    "    def minimumCost(self, cost: List[int]) -> int:\n",
    "        \n",
    "        cost.sort()\n",
    "        \n",
    "        total = sum(cost)\n",
    "\n",
    "        for i in range(0, len(cost),3):\n",
    "            total-=cost[i]\n",
    "        return total\n",
    "            \n",
    "        \n",
    "cost = [6,5,7,9,2,2]\n",
    "Solution().minimumCost(cost)\n"
   ]
  },
  {
   "cell_type": "code",
   "execution_count": 221,
   "metadata": {},
   "outputs": [
    {
     "data": {
      "text/plain": [
       "['Gold Medal', '5', 'Bronze Medal', 'Silver Medal', '4']"
      ]
     },
     "execution_count": 221,
     "metadata": {},
     "output_type": "execute_result"
    }
   ],
   "source": [
    "class Solution:\n",
    "    def findRelativeRanks(self, score: List[int]) -> List[str]:\n",
    "\n",
    "        sr_score = sorted(score, reverse=True)\n",
    "        \n",
    "        res = []\n",
    "\n",
    "        for i in range(len(sr_score)):\n",
    "            if i == 0:\n",
    "                res.append(\"Gold Medal\")\n",
    "            elif i == 1:\n",
    "                res.append(\"Silver Medal\")\n",
    "            elif i == 2:\n",
    "                res.append(\"Bronze Medal\")\n",
    "            else:\n",
    "                res.append(str(i+1))\n",
    "        \n",
    "        result = dict(zip(sr_score,res))\n",
    "        \n",
    "        final = []\n",
    "\n",
    "        for i in range(len(score)):\n",
    "            final.append(result[score[i]])\n",
    "        return final\n",
    "\n",
    "   \n",
    "score = [10,3,8,9,4]\n",
    "Solution().findRelativeRanks(score)"
   ]
  },
  {
   "cell_type": "code",
   "execution_count": 248,
   "metadata": {},
   "outputs": [
    {
     "data": {
      "text/plain": [
       "[4, 2, 5, 7]"
      ]
     },
     "execution_count": 248,
     "metadata": {},
     "output_type": "execute_result"
    }
   ],
   "source": [
    "class Solution:\n",
    "    def sortArrayByParityII(self, nums: List[int]) -> List[int]:\n",
    "        \n",
    "        odds = []\n",
    "        evens = []\n",
    "\n",
    "        for i in range(len(nums)):\n",
    "            if nums[i] % 2 != 0 and i % 2 != 0:\n",
    "                odds.append(nums[i])\n",
    "            else:\n",
    "                evens.append(nums[i])\n",
    "        \n",
    "        return evens + odds\n",
    "\n",
    "nums = [4,2,5,7]\n",
    "Solution().sortArrayByParityII(nums)"
   ]
  },
  {
   "cell_type": "code",
   "execution_count": null,
   "metadata": {},
   "outputs": [
    {
     "data": {
      "text/plain": [
       "[2]"
      ]
     },
     "execution_count": 265,
     "metadata": {},
     "output_type": "execute_result"
    }
   ],
   "source": [
    "class Solution:\n",
    "    def findDisappearedNumbers(self, nums: List[int]) -> List[int]:\n",
    "        \n",
    "        res = []\n",
    "        nums_sett = set(nums)\n",
    "        for n in range(1, len(nums)+1):\n",
    "            if n not in nums_sett:\n",
    "                res.append(n)\n",
    "        return res\n",
    "\n",
    "nums = [1,1]\n",
    "Solution().findDisappearedNumbers(nums)"
   ]
  },
  {
   "cell_type": "code",
   "execution_count": 268,
   "metadata": {},
   "outputs": [
    {
     "data": {
      "text/plain": [
       "[3, 7, 1, 6]"
      ]
     },
     "execution_count": 268,
     "metadata": {},
     "output_type": "execute_result"
    }
   ],
   "source": [
    "class Solution:\n",
    "    def arrayChange(self, nums: List[int], operations: List[List[int]]) -> List[int]:\n",
    "        \n",
    "        for i in range(len(operations)):\n",
    "            nums[i] = operations[i][1]\n",
    "        \n",
    "        return nums\n",
    "\n",
    "\n",
    "nums = [1,2,4,6]\n",
    "operations = [[1,3],[4,7],[6,1]]\n",
    "Solution().arrayChange(nums, operations)"
   ]
  },
  {
   "cell_type": "code",
   "execution_count": 275,
   "metadata": {},
   "outputs": [
    {
     "data": {
      "text/plain": [
       "6"
      ]
     },
     "execution_count": 275,
     "metadata": {},
     "output_type": "execute_result"
    }
   ],
   "source": [
    "class Solution:\n",
    "    def maxSubArray(self, nums: List[int]) -> int:\n",
    "        \n",
    "        res = []\n",
    "\n",
    "        for i in range(len(nums)):\n",
    "            for j in range(i, len(nums)):\n",
    "                res.append(sum(nums[i:j+1]))    \n",
    "        return max(res)\n",
    "    \n",
    "    def maxSubArray2(self, nums:List[int]):\n",
    "        n = len(nums)\n",
    "        max_som = float(\"-inf\")\n",
    "        cur_som = 0\n",
    "\n",
    "        for i in range(len(nums)):\n",
    "            cur_som+=nums[i]\n",
    "            max_som = max(max_som, cur_som)\n",
    "            if cur_som < 0:\n",
    "                cur_som = 0\n",
    "        return max_som\n",
    "\n",
    "nums = [-2,1,-3,4,-1,2,1,-5,4]\n",
    "Solution().maxSubArray2(nums)"
   ]
  },
  {
   "cell_type": "code",
   "execution_count": 287,
   "metadata": {},
   "outputs": [
    {
     "data": {
      "text/plain": [
       "1"
      ]
     },
     "execution_count": 287,
     "metadata": {},
     "output_type": "execute_result"
    }
   ],
   "source": [
    "class Solution:\n",
    "    def countMatches(self, items: List[List[str]], ruleKey: str, ruleValue: str) -> int:\n",
    "        \n",
    "        count = 0\n",
    "        for item in items:\n",
    "            if ruleKey == \"color\":\n",
    "                if item[1] == ruleValue:\n",
    "                    count+=1\n",
    "            if ruleKey == \"type\":\n",
    "                if item[0] == ruleValue:\n",
    "                    count+=1\n",
    "            if ruleKey == \"name\":\n",
    "                if item[2] == ruleValue:\n",
    "                    count+=1\n",
    "        return count\n",
    "\n",
    "        \n",
    "                \n",
    "items = [[\"phone\",\"blue\",\"pixel\"],[\"computer\",\"silver\",\"lenovo\"],[\"phone\",\"gold\",\"iphone\"]]\n",
    "ruleKey = \"color\"\n",
    "ruleValue = \"silver\"\n",
    "Solution().countMatches(items, ruleKey, ruleValue)"
   ]
  },
  {
   "cell_type": "code",
   "execution_count": 297,
   "metadata": {},
   "outputs": [
    {
     "data": {
      "text/plain": [
       "12"
      ]
     },
     "execution_count": 297,
     "metadata": {},
     "output_type": "execute_result"
    }
   ],
   "source": [
    "class Solution:\n",
    "    def maxProduct(self, nums: List[int]) -> int:\n",
    " \n",
    "        res = []\n",
    "        for i in range(len(nums)):\n",
    "            for j in range(i+1, len(nums)):\n",
    "                res.append((nums[i]-1)*(nums[j]-1))\n",
    "        return max(res)\n",
    "        \n",
    "\n",
    "nums = [3,4,5,2]\n",
    "Solution().maxProduct(nums)"
   ]
  },
  {
   "cell_type": "code",
   "execution_count": 301,
   "metadata": {},
   "outputs": [
    {
     "data": {
      "text/plain": [
       "34"
      ]
     },
     "execution_count": 301,
     "metadata": {},
     "output_type": "execute_result"
    }
   ],
   "source": [
    "class Solution:\n",
    "    def maxProductDifference(self, nums: List[int]) -> int:\n",
    "        \n",
    "        ds_sort = sorted(nums, reverse=True)\n",
    "        a_sort = sorted(nums)\n",
    "        return self.product(ds_sort[:2]) - self.product(a_sort[:2])\n",
    "    \n",
    "    def product(self, nums:List[int]):\n",
    "        product = 1\n",
    "        for n in nums:\n",
    "            product *=n\n",
    "        return product\n",
    "\n",
    "\n",
    "nums = [5,6,2,7,4]\n",
    "Solution().maxProductDifference(nums)"
   ]
  },
  {
   "cell_type": "code",
   "execution_count": null,
   "metadata": {},
   "outputs": [
    {
     "data": {
      "text/plain": [
       "False"
      ]
     },
     "execution_count": 45,
     "metadata": {},
     "output_type": "execute_result"
    }
   ],
   "source": [
    "class Solution:\n",
    "    def isCircularSentence(self, sentence: str) -> bool:\n",
    "    \n",
    "        ss = sentence.split()\n",
    "       \n",
    "        for i in range(len(ss) -1):\n",
    "            if ss[i][-1] != ss[i+1][0]:\n",
    "                return False\n",
    "        \n",
    "        return sentence[0] == sentence[-1]\n",
    "\n",
    "\n",
    "sentence = \"EDZVVYaYimHThFLmoHFGKCVPJTjVnBUnjhvFWijkHPxtWSWXAXXwDOjiTsPvRQIkxQZcGuKwWnctUjRwAibDlpfjZCYZdJFbjfUhffFdRhSRCcfJkCqYcPHYXhdOIzXdVwrxAKVXXQVSvMkIlfAbuKkyseWwAOLEnpMrcnDcWYcflAhAflHvJxgBYUKmeFHmrDZccVhtUEnVAwqnpUMgwtcFlsSddrzhOPLnjbzvmeMrCvqBJlAABUAdijMtebKTZMmNxtWqLIcsDsaepkmcOtVyBPR QMBUHrwRdOFsuIvjXLmnmpafbPPXXxWUWSGnhxjKOKH LhACwgqyvoaDmDgKAnmAAfJwnHsppIYrHxqEAFhAawCcHMHC WFOXITzBeNSgXBvRnwbTxogHKgbHBCylFSjjgkOMTHYoJdJLmHvXePjyGEALDI WgdgsRo o x\"\n",
    "Solution().isCircularSentence(sentence)"
   ]
  },
  {
   "cell_type": "code",
   "execution_count": 48,
   "metadata": {},
   "outputs": [
    {
     "data": {
      "text/plain": [
       "[1, 3]"
      ]
     },
     "execution_count": 48,
     "metadata": {},
     "output_type": "execute_result"
    }
   ],
   "source": [
    "class Solution:\n",
    "    def findPeaks(self, mountain: List[int]) -> List[int]:\n",
    "        res = []\n",
    "\n",
    "        \n",
    "        for i in range(len(mountain)):\n",
    "            if mountain[i] > mountain[i - 1] and mountain[i] > mountain[i + 1]:\n",
    "                res.append(i)\n",
    "        \n",
    "        return res\n",
    "\n",
    "mountain = [1,4,3,8,5]\n",
    "Solution().findPeaks(mountain)"
   ]
  },
  {
   "cell_type": "code",
   "execution_count": null,
   "metadata": {},
   "outputs": [
    {
     "data": {
      "text/plain": [
       "1"
      ]
     },
     "execution_count": 54,
     "metadata": {},
     "output_type": "execute_result"
    }
   ],
   "source": [
    "class Solution:\n",
    "    def findPeakElement(self, nums: List[int]) -> int:\n",
    "        \n",
    "        \n",
    "\n",
    "        for i in range(len(nums)-1):\n",
    "            if nums[i] > nums[i-1] and nums[i] > nums[i+1]:\n",
    "                return i\n",
    "        return 0\n",
    "\n",
    "\n",
    "nums = [1,2,1,3,5,6,4]\n",
    "Solution().findPeakElement(nums)"
   ]
  },
  {
   "cell_type": "code",
   "execution_count": 56,
   "metadata": {},
   "outputs": [
    {
     "data": {
      "text/plain": [
       "3"
      ]
     },
     "execution_count": 56,
     "metadata": {},
     "output_type": "execute_result"
    }
   ],
   "source": [
    "class Solution:\n",
    "    def countSubstrings(self, s: str) -> int:\n",
    "        res = []\n",
    "\n",
    "        for i in range(len(s)):\n",
    "            for j in range(i, len(s)):\n",
    "                if s[i:j+1] == s[i:j+1][::-1]:\n",
    "                    res.append(s[i:j+1])\n",
    "        return len(res)\n",
    "\n",
    "\n",
    "s = \"abc\"\n",
    "Solution().countSubstrings(s)"
   ]
  },
  {
   "cell_type": "code",
   "execution_count": 59,
   "metadata": {},
   "outputs": [
    {
     "data": {
      "text/plain": [
       "'bab'"
      ]
     },
     "execution_count": 59,
     "metadata": {},
     "output_type": "execute_result"
    }
   ],
   "source": [
    "class Solution:\n",
    "    def longestPalindrome(self, s: str) -> str:\n",
    "        \n",
    "        res = []\n",
    "\n",
    "        for i in range(len(s)):\n",
    "            for j in range(i, len(s)):\n",
    "                st = s[i:j+1]\n",
    "                if st == st[::-1]:\n",
    "                    res.append(st)\n",
    "        return max(res, key=len)\n",
    "\n",
    "\n",
    "\n",
    "s = \"babad\"\n",
    "Solution().longestPalindrome(s)"
   ]
  },
  {
   "cell_type": "code",
   "execution_count": 64,
   "metadata": {},
   "outputs": [
    {
     "data": {
      "text/plain": [
       "3"
      ]
     },
     "execution_count": 64,
     "metadata": {},
     "output_type": "execute_result"
    }
   ],
   "source": [
    "class Solution:\n",
    "    def lengthOfLongestSubstring(self, s: str) -> int:\n",
    "        \n",
    "        max_length = 0\n",
    "\n",
    "        for i in range(len(s)):\n",
    "            seen = set()\n",
    "            for j in range(i, len(s)):\n",
    "                \n",
    "                if s[j] in seen:\n",
    "                    break\n",
    "                seen.add(s[j])\n",
    "                max_length = max(max_length, j-i+1)\n",
    "        return max_length\n",
    "\n",
    "\n",
    "s = \"abcabcbb\"\n",
    "Solution().lengthOfLongestSubstring(s)"
   ]
  },
  {
   "cell_type": "code",
   "execution_count": null,
   "metadata": {},
   "outputs": [
    {
     "data": {
      "text/plain": [
       "3"
      ]
     },
     "execution_count": 76,
     "metadata": {},
     "output_type": "execute_result"
    }
   ],
   "source": [
    "class Solution:\n",
    "    def longestNiceSubarray(self, nums: List[int]) -> int:\n",
    "\n",
    "        res = []\n",
    "\n",
    "        for i in range(len(nums)):\n",
    "            for j in range(i,len(nums)):\n",
    "                if self.bitwise(nums[i:j+1]):\n",
    "                    res.append(nums[i:j+1])\n",
    "        \n",
    "        if res:\n",
    "            return len(max(res, key=len))\n",
    "        return 0\n",
    "        \n",
    "    \n",
    "    def bitwise(self, nums: List[int]) -> bool:\n",
    "        bitmask = 0\n",
    "        for num in nums:\n",
    "            if bitmask & num != 0:  # Check for overlapping bits\n",
    "                return False\n",
    "            bitmask |= num  # Add the current number to the bitmask\n",
    "        return True\n",
    "\n",
    "nums = [1,3,8,48,10]\n",
    "Solution().longestNiceSubarray(nums)\n",
    "        "
   ]
  },
  {
   "cell_type": "code",
   "execution_count": 100,
   "metadata": {},
   "outputs": [
    {
     "data": {
      "text/plain": [
       "[3, 2]"
      ]
     },
     "execution_count": 100,
     "metadata": {},
     "output_type": "execute_result"
    }
   ],
   "source": [
    "class Solution:\n",
    "    def twoOutOfThree(self, nums1: List[int], nums2: List[int], nums3: List[int]) -> List[int]:\n",
    "        \n",
    "        res = []\n",
    "\n",
    "        for n in nums1:\n",
    "            if n in nums2 or n in nums3:\n",
    "                res.append(n)\n",
    "        return res\n",
    "\n",
    "nums1 = [1,1,3,2]\n",
    "nums2 = [2,3]\n",
    "nums3 = [3]\n",
    "Solution().twoOutOfThree(nums1, nums2, nums3)"
   ]
  },
  {
   "cell_type": "code",
   "execution_count": 104,
   "metadata": {},
   "outputs": [
    {
     "data": {
      "text/plain": [
       "21"
      ]
     },
     "execution_count": 104,
     "metadata": {},
     "output_type": "execute_result"
    }
   ],
   "source": [
    "class Solution:\n",
    "    def sumOfMultiples(self, n: int) -> int:\n",
    "        \n",
    "        res = []\n",
    "\n",
    "        for i in range(n+1):\n",
    "            if i % 3 ==0 or i%5 ==0 or i % 7 ==0:\n",
    "                res.append(i)\n",
    "        return sum(res)\n",
    "\n",
    "n = 7\n",
    "Solution().sumOfMultiples(n)"
   ]
  },
  {
   "cell_type": "code",
   "execution_count": 7,
   "metadata": {},
   "outputs": [
    {
     "data": {
      "text/plain": [
       "4"
      ]
     },
     "execution_count": 7,
     "metadata": {},
     "output_type": "execute_result"
    }
   ],
   "source": [
    "from typing import List\n",
    "\n",
    "class Solution:\n",
    "    def countConsistentStrings(self, allowed: str, words: List[str]) -> int:\n",
    "\n",
    "        res = []\n",
    "\n",
    "        for word in words:\n",
    "            for c in word:\n",
    "                if c not in allowed:\n",
    "                    res.append(word)\n",
    "        return len([word for word in words if word  not in res])\n",
    "\n",
    "\n",
    "\n",
    "allowed = \"cad\"\n",
    "words = [\"cc\",\"acd\",\"b\",\"ba\",\"bac\",\"bad\",\"ac\",\"d\"]\n",
    "Solution().countConsistentStrings(allowed, words)"
   ]
  },
  {
   "cell_type": "code",
   "execution_count": 32,
   "metadata": {},
   "outputs": [
    {
     "data": {
      "text/plain": [
       "28"
      ]
     },
     "execution_count": 32,
     "metadata": {},
     "output_type": "execute_result"
    }
   ],
   "source": [
    "from functools import reduce\n",
    "from itertools import combinations\n",
    "\n",
    "class Solution:\n",
    "    def subsetXORSum(self, nums: List[int]) -> int:\n",
    "\n",
    "        res = []\n",
    "\n",
    "        for i in range(len(nums) +1):\n",
    "            res.extend(combinations(nums, i))\n",
    "        \n",
    "        ress = [list(r) for r in res if len(r) != 0]\n",
    "\n",
    "        \n",
    "\n",
    "        final = []\n",
    "\n",
    "\n",
    "        for l in ress:\n",
    "            xor_value = reduce(lambda x, y: x^y, l)\n",
    "            final.append(xor_value)\n",
    "        \n",
    "        return sum(final)\n",
    "    \n",
    "    def subsetXORSum2(self, nums: List[int]) -> int:\n",
    "\n",
    "        res = 0 \n",
    "\n",
    "        for n in nums:\n",
    "            res = res | n\n",
    "        \n",
    "        return res * (2 ** (len(nums)-1))\n",
    "\n",
    "nums = [5,1,6]\n",
    "Solution().subsetXORSum2(nums)"
   ]
  },
  {
   "cell_type": "code",
   "execution_count": null,
   "metadata": {},
   "outputs": [
    {
     "data": {
      "text/plain": [
       "1"
      ]
     },
     "execution_count": 56,
     "metadata": {},
     "output_type": "execute_result"
    }
   ],
   "source": [
    "from collections import Counter\n",
    "\n",
    "class Solution:\n",
    "    def findCenter(self, edges: List[List[int]]) -> int:\n",
    "        res = []\n",
    "        for e in edges:\n",
    "            res.extend(e)\n",
    "        \n",
    "        freq = {}\n",
    "\n",
    "        for r in res:\n",
    "            freq[r] = freq.get(r, 0)+1\n",
    "\n",
    "        for key, val in freq.items():\n",
    "            if val == len(edges):\n",
    "                return key\n",
    "        return 0\n",
    "            \n",
    "        \n",
    "edges = [[1,2],[5,1],[1,3],[1,4]]\n",
    "Solution().findCenter(edges)"
   ]
  },
  {
   "cell_type": "code",
   "execution_count": null,
   "metadata": {},
   "outputs": [
    {
     "data": {
      "text/plain": [
       "8"
      ]
     },
     "execution_count": 61,
     "metadata": {},
     "output_type": "execute_result"
    }
   ],
   "source": [
    "from functools import reduce\n",
    "\n",
    "class Solution:\n",
    "    def xorOperation(self, n: int, start: int) -> int:\n",
    "        \n",
    "        nums = list(range(n))\n",
    "        \n",
    "        for i in range(len(nums)):\n",
    "            nums[i] = start + 2 * i\n",
    "        \n",
    "        xor_value = reduce(lambda x, y: x^y, nums)\n",
    "        return xor_value\n",
    "\n",
    "        \n",
    "\n",
    "n = 5\n",
    "start = 0\n",
    "Solution().xorOperation(n, start)"
   ]
  },
  {
   "cell_type": "code",
   "execution_count": null,
   "metadata": {},
   "outputs": [],
   "source": [
    "class Solution:\n",
    "    def removeVowels(self, s: str) -> str:\n",
    "        vowels = ['a', 'e', 'i', 'o', 'u']\n",
    "        ans = \"\"\n",
    "\n",
    "        for c in s:\n",
    "            if c not in vowels:\n",
    "                ans+=c\n",
    "        return ans\n",
    "    \n",
    "s = \"leetcodeisacommunityforcoders\"\n",
    "Solution().removeVowels(s)"
   ]
  },
  {
   "cell_type": "code",
   "execution_count": null,
   "metadata": {},
   "outputs": [],
   "source": [
    "class Solution:\n",
    "    def sumOfDigits(self, nums: List[int]) -> int:\n",
    "        min_element = min(nums)\n",
    "\n",
    "        res = sum([int(x) for x in str(min_element)])\n",
    "\n",
    "        return 0 if res % 2 != 0 else 1\n",
    "        \n",
    "\n",
    "\n",
    "nums = [99,77,33,66,55]\n",
    "Solution().sumOfDigits(nums)"
   ]
  },
  {
   "cell_type": "code",
   "execution_count": null,
   "metadata": {},
   "outputs": [],
   "source": [
    "class Solution:\n",
    "    def canAttendMeetings(self, intervals: List[List[int]]) -> bool:\n",
    "        intervals = sorted(intervals, key=lambda x: x[0])\n",
    "\n",
    "        for i in range(len(intervals)-1):\n",
    "            if intervals[i][1] >= intervals[i+1][0]:\n",
    "                 return False\n",
    "        return True\n",
    "        \n",
    "\n",
    "intervals = [[6,15],[13,20],[6,17]]\n",
    "Solution().canAttendMeetings(intervals)"
   ]
  },
  {
   "cell_type": "code",
   "execution_count": 3,
   "metadata": {},
   "outputs": [
    {
     "data": {
      "text/plain": [
       "[0, 1]"
      ]
     },
     "execution_count": 3,
     "metadata": {},
     "output_type": "execute_result"
    }
   ],
   "source": [
    "class Solution:\n",
    "    def twoSum(self, numbers: List[int], target: int) -> List[int]:\n",
    "        l, r = 0, len(numbers) - 1\n",
    "\n",
    "        while l < r:\n",
    "            cur_som = numbers[l] + numbers[r]\n",
    "\n",
    "            if cur_som == target:\n",
    "                return [l, r]\n",
    "            \n",
    "            elif cur_som < target:\n",
    "                l+=1\n",
    "            else:\n",
    "                r-=1\n",
    "        return []\n",
    "\n",
    "\n",
    "numbers = [2,7,11,15]\n",
    "target = 9\n",
    "Solution().twoSum(numbers, target)"
   ]
  },
  {
   "cell_type": "code",
   "execution_count": 8,
   "metadata": {},
   "outputs": [
    {
     "data": {
      "text/plain": [
       "6"
      ]
     },
     "execution_count": 8,
     "metadata": {},
     "output_type": "execute_result"
    }
   ],
   "source": [
    "class Solution:\n",
    "    def maxArea(self, height: List[int]) -> int:\n",
    "        \n",
    "        res = []\n",
    "\n",
    "        for i in range(len(height)):\n",
    "            for j in range(i,len(height)):\n",
    "                res.append(height[i] - height[j])\n",
    "        return max(res)\n",
    "\n",
    "\n",
    "height = [1,8,6,2,5,4,8,3,7]\n",
    "Solution().maxArea(height)"
   ]
  },
  {
   "cell_type": "code",
   "execution_count": 7,
   "metadata": {},
   "outputs": [
    {
     "data": {
      "text/plain": [
       "8"
      ]
     },
     "execution_count": 7,
     "metadata": {},
     "output_type": "execute_result"
    }
   ],
   "source": [
    "class SparseVector:\n",
    "    def __init__(self, nums: List[int]):\n",
    "        self.nums = nums\n",
    "    \n",
    "    def dotProduct(self, vec: 'SparseVector') -> int:\n",
    "        result = [x*y for x, y in zip(self.nums, vec.nums)]\n",
    "        return sum(result)\n",
    "\n",
    "v1 = SparseVector([1,0,0,2,3])\n",
    "v2 = SparseVector([0,3,0,4,0])\n",
    "v1.dotProduct(v2)"
   ]
  },
  {
   "cell_type": "code",
   "execution_count": 12,
   "metadata": {},
   "outputs": [
    {
     "data": {
      "text/plain": [
       "40"
      ]
     },
     "execution_count": 12,
     "metadata": {},
     "output_type": "execute_result"
    }
   ],
   "source": [
    "class Solution:\n",
    "    def minProductSum(self, nums1: List[int], nums2: List[int]) -> int:\n",
    "       nums1 = sorted(nums1)\n",
    "       nums2 = sorted(nums2, reverse=True)\n",
    "\n",
    "       return sum([x *y for x, y in zip(nums1, nums2)])\n",
    "\n",
    "\n",
    "nums1 = [5,3,4,2]\n",
    "nums2 = [4,2,2,5]\n",
    "Solution().minProductSum(nums1, nums2)"
   ]
  },
  {
   "cell_type": "code",
   "execution_count": 19,
   "metadata": {},
   "outputs": [
    {
     "data": {
      "text/plain": [
       "13"
      ]
     },
     "execution_count": 19,
     "metadata": {},
     "output_type": "execute_result"
    }
   ],
   "source": [
    "class Solution:\n",
    "    def sumIndicesWithKSetBits(self, nums: List[int], k: int) -> int:\n",
    "\n",
    "        som = 0       \n",
    "        bins =  [bin(i) for i in range(len(nums))]\n",
    "\n",
    "        for i in range(len(bins)):\n",
    "            if bins[i].count('1') == k:\n",
    "                som+=nums[i]\n",
    "        return som\n",
    "            \n",
    "\n",
    "nums = [5,10,1,5,2]\n",
    "k = 1\n",
    "Solution().sumIndicesWithKSetBits(nums, k)"
   ]
  },
  {
   "cell_type": "code",
   "execution_count": 27,
   "metadata": {},
   "outputs": [
    {
     "data": {
      "text/plain": [
       "[0, 1, 1]"
      ]
     },
     "execution_count": 27,
     "metadata": {},
     "output_type": "execute_result"
    }
   ],
   "source": [
    "class Solution:\n",
    "    def countBits(self, n: int) -> List[int]:\n",
    "        bins =  [bin(i) for i in range(n+1)]\n",
    "        \n",
    "        ans = []\n",
    "        for x in bins:\n",
    "            if x.count('1') >= 1:\n",
    "                ans.append(x.count('1'))\n",
    "            else:\n",
    "                ans.append(0)\n",
    "        return ans\n",
    "\n",
    "n = 2\n",
    "Solution().countBits(n)"
   ]
  },
  {
   "cell_type": "code",
   "execution_count": 29,
   "metadata": {},
   "outputs": [
    {
     "data": {
      "text/plain": [
       "3"
      ]
     },
     "execution_count": 29,
     "metadata": {},
     "output_type": "execute_result"
    }
   ],
   "source": [
    "class Solution:\n",
    "    def hammingWeight(self, n: int) -> int:\n",
    "        count = 0\n",
    "        binary_n = bin(n)\n",
    "\n",
    "        for s in binary_n:\n",
    "            if s == '1':\n",
    "                count+=1\n",
    "        return count\n",
    "\n",
    "n = 11\n",
    "Solution().hammingWeight(n)"
   ]
  },
  {
   "cell_type": "code",
   "execution_count": 35,
   "metadata": {},
   "outputs": [
    {
     "data": {
      "text/plain": [
       "True"
      ]
     },
     "execution_count": 35,
     "metadata": {},
     "output_type": "execute_result"
    }
   ],
   "source": [
    "class Solution:\n",
    "    def isPowerOfTwo(self, n: int) -> bool:\n",
    "        return n >0 and bin(n).count('1') == 1\n",
    "\n",
    "n = 1\n",
    "Solution().isPowerOfTwo(n)"
   ]
  },
  {
   "cell_type": "code",
   "execution_count": 39,
   "metadata": {},
   "outputs": [
    {
     "data": {
      "text/plain": [
       "True"
      ]
     },
     "execution_count": 39,
     "metadata": {},
     "output_type": "execute_result"
    }
   ],
   "source": [
    "class Solution:\n",
    "    def isPowerOfThree(self, n: int) -> bool:\n",
    "        return n % 3 ==0 and bin(n).count('1') > 2\n",
    "\n",
    "n = 27\n",
    "Solution().isPowerOfThree(n)"
   ]
  }
 ],
 "metadata": {
  "kernelspec": {
   "display_name": "Python 3",
   "language": "python",
   "name": "python3"
  },
  "language_info": {
   "codemirror_mode": {
    "name": "ipython",
    "version": 3
   },
   "file_extension": ".py",
   "mimetype": "text/x-python",
   "name": "python",
   "nbconvert_exporter": "python",
   "pygments_lexer": "ipython3",
   "version": "3.12.4"
  }
 },
 "nbformat": 4,
 "nbformat_minor": 2
}
